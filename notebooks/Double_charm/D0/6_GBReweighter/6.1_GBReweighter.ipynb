{
 "cells": [
  {
   "cell_type": "markdown",
   "id": "exposed-spending",
   "metadata": {},
   "source": [
    "# Reweighting MC sample of $B \\to D^{*-}\\left(D^0 \\to K^{-} \\pi^+ \\pi^+ \\pi^-  \\right)X$ Background\n",
    "\n",
    "With `GBReweighter` in `hep_ml`\n",
    "\n",
    "**INPUTS**\n",
    "- `MC`: $B \\to D^{*-}\\left(D^0 \\to K^{-} \\pi^+ \\pi^+ \\pi^-  \\right)X$ \n",
    "- `data`: LHCb data, with $_s$Weights to project in the $D^+ \\to K^- \\pi^+ \\pi^-$ contribution and project out the other contributions.\n",
    "\n",
    "**GOALS**\n",
    "1. to learn the weights to apply to MC to align MC to data for the $D^0 \\to K^- \\pi^+ \\pi^+ \\pi^- $ decays by looking at the MC and $_s$Weighted LHCb data \n",
    "2. to apply the weights to the general MC.\n",
    "\n",
    "We hope that this will reweight the general very inclusive MC sample for $B \\to D^{*-} D^0 (X)$"
   ]
  },
  {
   "cell_type": "code",
   "execution_count": 1,
   "id": "finite-nicaragua",
   "metadata": {},
   "outputs": [
    {
     "name": "stdout",
     "output_type": "stream",
     "text": [
      "MC name:  BTODstD0X_MC\n",
      "data name:  BTODstD0X\n",
      "reweighted MC name:  GBReweighter_BTODstD0X_MC\n"
     ]
    }
   ],
   "source": [
    "import sys\n",
    "sys.path.insert(0, '..')\n",
    "from definition import (\n",
    "    columns,\n",
    "    data_names,\n",
    "    column_ranges,\n",
    ")\n",
    "\n",
    "MC_name   = data_names['MC']\n",
    "data_name = data_names['data']\n",
    "reweighted_MC_name = 'GBReweighter_' + data_names['MC']\n",
    "\n",
    "print(\"MC name: \", MC_name)\n",
    "print(\"data name: \", data_name)\n",
    "print(\"reweighted MC name: \", reweighted_MC_name)\n"
   ]
  },
  {
   "cell_type": "code",
   "execution_count": 2,
   "id": "assumed-wilson",
   "metadata": {},
   "outputs": [
    {
     "name": "stdout",
     "output_type": "stream",
     "text": [
      "Welcome to JupyROOT 6.22/06\n"
     ]
    }
   ],
   "source": [
    "# python libraries\n",
    "import numpy as np\n",
    "import pandas as pd\n",
    "from scipy.stats import ks_2samp\n",
    "from sklearn.model_selection import train_test_split\n",
    "\n",
    "# hep_ml\n",
    "from hep_ml.reweight import GBReweighter\n",
    "\n",
    "# bd2dsttaunu\n",
    "from bd2dsttaunu.locations import loc\n",
    "\n",
    "# HEA library\n",
    "from HEA.plot import plot_hist_auto, plot_hist, save_fig, plot_hist_var\n",
    "from HEA import load_dataframe\n",
    "from HEA.plot.tools import draw_vline\n",
    "from HEA.definition import latex_params\n",
    "from HEA.pandas_root import load_saved_root\n",
    "from HEA.pandas_root import save_root\n",
    "from HEA.tools.serial import dump_joblib, retrieve_joblib"
   ]
  },
  {
   "cell_type": "markdown",
   "id": "differential-environment",
   "metadata": {},
   "source": [
    "## Read the dataframe"
   ]
  },
  {
   "cell_type": "code",
   "execution_count": 3,
   "id": "anonymous-dating",
   "metadata": {},
   "outputs": [
    {
     "name": "stdout",
     "output_type": "stream",
     "text": [
      "Loading /home/correiaa/bd2dsttaunu/output//root/BTODstD0X_MC/BTODstD0X_MC_with_sWeights.root\n",
      "Loading /home/correiaa/bd2dsttaunu/output//root/BTODstD0X/BTODstD0X_with_sWeights.root\n"
     ]
    }
   ],
   "source": [
    "df = {}\n",
    "df['MC'] = load_saved_root(MC_name + '_with_sWeights', folder_name=MC_name)\n",
    "df['data'] = load_saved_root(data_name + '_with_sWeights', folder_name=data_name)"
   ]
  },
  {
   "cell_type": "code",
   "execution_count": 4,
   "id": "piano-jimmy",
   "metadata": {},
   "outputs": [],
   "source": [
    "df['data'] = df['data'].dropna()\n",
    "df['MC'] = df['MC'].dropna()\n",
    "\n",
    "df['data'].reset_index(drop=True, inplace=True)\n",
    "df['MC'].reset_index(drop=True, inplace=True)"
   ]
  },
  {
   "cell_type": "markdown",
   "id": "single-stylus",
   "metadata": {},
   "source": [
    "## Prepare the dataframes"
   ]
  },
  {
   "cell_type": "code",
   "execution_count": 5,
   "id": "approximate-death",
   "metadata": {},
   "outputs": [
    {
     "name": "stdout",
     "output_type": "stream",
     "text": [
      "13 available columns:\n",
      "- m_Kpipipi\n",
      "- q2_reco\n",
      "- isolation_bdt\n",
      "- tau_life_reco\n",
      "- m_DstKpipi\n",
      "- theta_X_reco\n",
      "- theta_L_reco\n",
      "- chi_reco\n",
      "- costheta_X_reco\n",
      "- costheta_L_reco\n",
      "- coschi_reco\n",
      "- tau_M\n",
      "- B0_M\n"
     ]
    }
   ],
   "source": [
    "print(f\"{len(columns)} available columns:\")\n",
    "for column in columns:\n",
    "    print(\"- \" + column)"
   ]
  },
  {
   "cell_type": "code",
   "execution_count": 6,
   "id": "judicial-edinburgh",
   "metadata": {},
   "outputs": [
    {
     "name": "stdout",
     "output_type": "stream",
     "text": [
      "5 columns used for training of the GBRWeighter:\n",
      "- costheta_X_reco\n",
      "- costheta_L_reco\n",
      "- chi_reco\n",
      "- isolation_bdt\n",
      "- q2_reco\n"
     ]
    }
   ],
   "source": [
    "training_columns = [\n",
    "    'costheta_X_reco',\n",
    "    'costheta_L_reco',\n",
    "    'chi_reco',\n",
    "    'isolation_bdt',\n",
    "    'q2_reco',\n",
    "]\n",
    "\n",
    "print(f\"{len(training_columns)} columns used for training of the GBRWeighter:\")\n",
    "for training_column in training_columns:\n",
    "    print(\"- \" + training_column)"
   ]
  },
  {
   "cell_type": "markdown",
   "id": "developing-thing",
   "metadata": {},
   "source": [
    "We'll add the $_s$Weights to this list"
   ]
  },
  {
   "cell_type": "markdown",
   "id": "wooden-dominant",
   "metadata": {},
   "source": [
    "### Split the dataframes in two"
   ]
  },
  {
   "cell_type": "code",
   "execution_count": 7,
   "id": "limiting-retention",
   "metadata": {},
   "outputs": [
    {
     "name": "stdout",
     "output_type": "stream",
     "text": [
      "MC\n",
      "data\n",
      "12768 12768\n",
      "26615 26615\n"
     ]
    }
   ],
   "source": [
    "two_dfs = {\n",
    "    1 : {},\n",
    "    2 : {}\n",
    "}\n",
    "\n",
    "for type_df in df.keys():\n",
    "    print(type_df)\n",
    "    two_dfs[1][type_df] = df[type_df].sample(frac=0.5, random_state=20)\n",
    "    two_dfs[2][type_df] = df[type_df].drop(two_dfs[1][type_df].sort_index().index,0).sample(frac=1., random_state=20)\n",
    "\n",
    "# check\n",
    "for type_df in df.keys():\n",
    "    print(len(two_dfs[1][type_df]),len(two_dfs[2][type_df]))"
   ]
  },
  {
   "cell_type": "markdown",
   "id": "informational-advertiser",
   "metadata": {},
   "source": [
    "### Get the dataframes with only the training variables + the $_s$Weights"
   ]
  },
  {
   "cell_type": "code",
   "execution_count": 8,
   "id": "german-organic",
   "metadata": {},
   "outputs": [],
   "source": [
    "reweight_two_dfs = {\n",
    "    1 : {},\n",
    "    2 : {}\n",
    "}\n",
    "for num in reweight_two_dfs.keys():\n",
    "    reweight_two_dfs[num]['MC'] = two_dfs[num]['MC'][training_columns + ['sWeight']]\n",
    "    reweight_two_dfs[num]['data'] = two_dfs[num]['data'][training_columns + ['sWeight']]"
   ]
  },
  {
   "cell_type": "code",
   "execution_count": 9,
   "id": "exciting-vulnerability",
   "metadata": {},
   "outputs": [],
   "source": [
    "for num in two_dfs.keys():\n",
    "    for type_df in two_dfs[num].keys():\n",
    "        assert (reweight_two_dfs[num]['MC'].columns == training_columns + ['sWeight']).all()\n",
    "        assert (reweight_two_dfs[num]['data'].columns == training_columns + ['sWeight']).all()"
   ]
  },
  {
   "cell_type": "markdown",
   "id": "strategic-graphic",
   "metadata": {},
   "source": [
    "### Divide into training and test samples"
   ]
  },
  {
   "cell_type": "code",
   "execution_count": 10,
   "id": "academic-startup",
   "metadata": {},
   "outputs": [],
   "source": [
    "train_reweight_two_dfs = {\n",
    "    1 : {},\n",
    "    2 : {}\n",
    "}\n",
    "test_reweight_two_dfs = {\n",
    "    1 : {},\n",
    "    2 : {}\n",
    "}\n",
    "\n",
    "for num in two_dfs.keys():\n",
    "    for type_df in two_dfs[num].keys():\n",
    "        train_reweight_two_dfs[num][type_df], test_reweight_two_dfs[num][type_df] =\\\n",
    "            train_test_split(reweight_two_dfs[num][type_df], \n",
    "                             test_size=0.5,\n",
    "                             random_state=20)"
   ]
  },
  {
   "cell_type": "code",
   "execution_count": 11,
   "id": "hairy-metropolitan",
   "metadata": {},
   "outputs": [
    {
     "name": "stdout",
     "output_type": "stream",
     "text": [
      "6384 6384\n",
      "13307 13308\n",
      "6384 6384\n",
      "13307 13308\n"
     ]
    }
   ],
   "source": [
    "for type_df in two_dfs.keys():\n",
    "    for num in two_dfs[type_df].keys():\n",
    "        print(len(train_reweight_two_dfs[type_df][num]), len(test_reweight_two_dfs[type_df][num]))"
   ]
  },
  {
   "cell_type": "markdown",
   "id": "compound-london",
   "metadata": {},
   "source": [
    "## Hyperparameters tuning "
   ]
  },
  {
   "cell_type": "code",
   "execution_count": 12,
   "id": "confused-target",
   "metadata": {},
   "outputs": [],
   "source": [
    "from HEA.tools import get_chi2_2samp"
   ]
  },
  {
   "cell_type": "code",
   "execution_count": 13,
   "id": "joint-consequence",
   "metadata": {},
   "outputs": [],
   "source": [
    "from HEA.reweighting.GBReweighter_tools import (\n",
    "    grid_search,\n",
    "    show_sorted_combined_scores\n",
    ")"
   ]
  },
  {
   "cell_type": "code",
   "execution_count": 14,
   "id": "still-entrance",
   "metadata": {
    "scrolled": true
   },
   "outputs": [
    {
     "name": "stdout",
     "output_type": "stream",
     "text": [
      "test of \n",
      "{'n_estimators': 30, 'learning_rate': 0.1, 'max_depth': 2}\n",
      "test of \n",
      "{'n_estimators': 35, 'learning_rate': 0.1, 'max_depth': 2}\n",
      "test of \n",
      "{'n_estimators': 40, 'learning_rate': 0.1, 'max_depth': 2}\n",
      "test of \n",
      "{'n_estimators': 45, 'learning_rate': 0.1, 'max_depth': 2}\n",
      "test of \n",
      "{'n_estimators': 50, 'learning_rate': 0.1, 'max_depth': 2}\n",
      "test of \n",
      "{'n_estimators': 55, 'learning_rate': 0.1, 'max_depth': 2}\n",
      "test of \n",
      "{'n_estimators': 60, 'learning_rate': 0.1, 'max_depth': 2}\n",
      "test of \n",
      "{'n_estimators': 65, 'learning_rate': 0.1, 'max_depth': 2}\n",
      "test of \n",
      "{'n_estimators': 30, 'learning_rate': 0.1, 'max_depth': 2}\n",
      "test of \n",
      "{'n_estimators': 35, 'learning_rate': 0.1, 'max_depth': 2}\n",
      "test of \n",
      "{'n_estimators': 40, 'learning_rate': 0.1, 'max_depth': 2}\n",
      "test of \n",
      "{'n_estimators': 45, 'learning_rate': 0.1, 'max_depth': 2}\n",
      "test of \n",
      "{'n_estimators': 50, 'learning_rate': 0.1, 'max_depth': 2}\n",
      "test of \n",
      "{'n_estimators': 55, 'learning_rate': 0.1, 'max_depth': 2}\n",
      "test of \n",
      "{'n_estimators': 60, 'learning_rate': 0.1, 'max_depth': 2}\n",
      "test of \n",
      "{'n_estimators': 65, 'learning_rate': 0.1, 'max_depth': 2}\n"
     ]
    }
   ],
   "source": [
    "param_grid = {\n",
    "    \"n_estimators\": np.arange(30, 66, 5),\n",
    "    'learning_rate': [0.1],\n",
    "    \"max_depth\": [2]\n",
    "}\n",
    "\n",
    "scores = {}\n",
    "best_param_values = {}\n",
    "p_values = {}\n",
    "for num in train_reweight_two_dfs.keys():\n",
    "    scores[num], p_values[num], best_param_values[num] = grid_search(\n",
    "        param_grid,\n",
    "        original_train_df=train_reweight_two_dfs[num]['MC'].drop('sWeight', 1), \n",
    "        target_train_df=train_reweight_two_dfs[num]['data'].drop('sWeight', 1),\n",
    "        original_test_df=test_reweight_two_dfs[num]['MC'].drop('sWeight', 1),\n",
    "        target_test_df=test_reweight_two_dfs[num]['data'].drop('sWeight', 1),\n",
    "        target_train_weight=train_reweight_two_dfs[num]['data']['sWeight'],\n",
    "        target_test_weight=test_reweight_two_dfs[num]['data']['sWeight'],\n",
    "        original_train_weight=train_reweight_two_dfs[num]['MC']['sWeight'],\n",
    "        original_test_weight=test_reweight_two_dfs[num]['MC']['sWeight'])"
   ]
  },
  {
   "cell_type": "code",
   "execution_count": 15,
   "id": "touched-statistics",
   "metadata": {},
   "outputs": [
    {
     "name": "stdout",
     "output_type": "stream",
     "text": [
      "[35.   0.1  2. ] [0.4526166  0.24259389] 13.807714325832137\n",
      "[30.   0.1  2. ] [0.77047007 0.26997253] 13.853453801143255\n",
      "[55.   0.1  2. ] [0.37701911 0.02669125] 13.897808894738429\n",
      "[40.   0.1  2. ] [0.7844379  0.07424991] 13.902179423893156\n",
      "[45.   0.1  2. ] [0.69793426 0.06175837] 13.905444807679658\n",
      "[50.   0.1  2. ] [0.54989711 0.05621827] 14.001126644202763\n",
      "[60.   0.1  2. ] [0.24259389 0.02049857] 14.20904200898585\n",
      "[65.   0.1  2. ] [0.16625441 0.00994754] 14.272768355975757\n"
     ]
    }
   ],
   "source": [
    "show_sorted_combined_scores(scores[1], scores[2], p_values[1], p_values[2])"
   ]
  },
  {
   "cell_type": "markdown",
   "id": "fluid-supplement",
   "metadata": {},
   "source": [
    "## Training"
   ]
  },
  {
   "cell_type": "markdown",
   "id": "passive-cleaning",
   "metadata": {},
   "source": [
    "### Hyperparameters"
   ]
  },
  {
   "cell_type": "code",
   "execution_count": 16,
   "id": "drawn-silver",
   "metadata": {},
   "outputs": [],
   "source": [
    "hyperparams ={\n",
    "    'n_estimators': 55,\n",
    "    'learning_rate': 0.1,\n",
    "    'max_depth': 2,\n",
    "    'gb_args': {'random_state': 20},\n",
    "}"
   ]
  },
  {
   "cell_type": "code",
   "execution_count": 17,
   "id": "orange-zoning",
   "metadata": {},
   "outputs": [],
   "source": [
    "reweighter = {}\n",
    "\n",
    "for num in train_reweight_two_dfs.keys():\n",
    "    reweighter[num] = GBReweighter(**hyperparams)\n",
    "    reweighter[num] = reweighter[num].fit(\n",
    "        original=train_reweight_two_dfs[num]['MC'].drop('sWeight', 1), \n",
    "        target=train_reweight_two_dfs[num]['data'].drop('sWeight', 1), # drop the sWeight \n",
    "        original_weight=train_reweight_two_dfs[num]['MC']['sWeight'],\n",
    "        target_weight=train_reweight_two_dfs[num]['data']['sWeight']\n",
    "    )"
   ]
  },
  {
   "cell_type": "code",
   "execution_count": 18,
   "id": "forty-hawaiian",
   "metadata": {},
   "outputs": [],
   "source": [
    "train_MC_weights = {}\n",
    "test_MC_weights = {}\n",
    "\n",
    "for num in reweighter.keys():\n",
    "    train_MC_weights[num] = reweighter[num].predict_weights(\n",
    "        train_reweight_two_dfs[num]['MC'].drop('sWeight', 1),\n",
    "        original_weight=train_reweight_two_dfs[num]['MC']['sWeight']\n",
    "    )\n",
    "    test_MC_weights[num] = reweighter[num].predict_weights(\n",
    "        test_reweight_two_dfs[num]['MC'].drop('sWeight', 1),\n",
    "        original_weight=train_reweight_two_dfs[num]['MC']['sWeight']\n",
    "    )\n",
    "    "
   ]
  },
  {
   "cell_type": "code",
   "execution_count": 19,
   "id": "unlike-signal",
   "metadata": {},
   "outputs": [
    {
     "name": "stderr",
     "output_type": "stream",
     "text": [
      "findfont: Font family ['serif'] not found. Falling back to DejaVu Sans.\n"
     ]
    },
    {
     "name": "stdout",
     "output_type": "stream",
     "text": [
      "Figure saved in /home/correiaa/bd2dsttaunu/output/plots//BTODstD0X_MC/GBReweighter_BTODstD0X_MC/overtraining_1\n",
      "Figure saved in /home/correiaa/bd2dsttaunu/output/plots//BTODstD0X_MC/GBReweighter_BTODstD0X_MC/overtraining_2\n"
     ]
    },
    {
     "data": {
      "image/png": "[encoded data removed]",
      "text/plain": [
       "<Figure size 576x432 with 1 Axes>"
      ]
     },
     "metadata": {
      "needs_background": "light"
     },
     "output_type": "display_data"
    },
    {
     "data": {
      "image/png": "[encoded data removed]",
      "text/plain": [
       "<Figure size 576x432 with 1 Axes>"
      ]
     },
     "metadata": {
      "needs_background": "light"
     },
     "output_type": "display_data"
    }
   ],
   "source": [
    "for num in reweighter.keys():\n",
    "    plot_hist_var(\n",
    "        [train_MC_weights[num],test_MC_weights[num]],\n",
    "        branch='Weight', bar_mode=[True, False],\n",
    "        alpha=[0.7, 0.4],\n",
    "        data_names=['train', 'test'],\n",
    "        n_bins=10, high=2,\n",
    "        colors=['olive', 'crimson'], \n",
    "        folder_name=f'{reweighted_MC_name}',\n",
    "        fig_name=f'overtraining_{num}'\n",
    "    )"
   ]
  },
  {
   "cell_type": "code",
   "execution_count": 47,
   "id": "fifty-cycle",
   "metadata": {},
   "outputs": [
    {
     "name": "stdout",
     "output_type": "stream",
     "text": [
      "Reweighting 1\n",
      "KS score: 0.011278195488721804\n",
      "p-value: 0.811594585870914\n",
      "Reweighting 2\n",
      "KS score: 0.021929824561403508\n",
      "p-value: 0.09281624742345301\n"
     ]
    }
   ],
   "source": [
    "weight_ks_2samp = {}\n",
    "weight_ks_value = {}\n",
    "weight_p_value = {}\n",
    "for num in reweighter.keys():\n",
    "    weight_ks_2samp[num] = ks_2samp(train_MC_weights[num], test_MC_weights[num])\n",
    "\n",
    "    weight_ks_value[num] = weight_ks_2samp[num].statistic\n",
    "    weight_p_value[num] = weight_ks_2samp[num].pvalue\n",
    "    \n",
    "    print(f\"Reweighting {num}\")\n",
    "    print(\"KS score:\", weight_ks_value[num])\n",
    "    print(\"p-value:\", weight_p_value[num])"
   ]
  },
  {
   "cell_type": "markdown",
   "id": "sweet-cause",
   "metadata": {},
   "source": [
    "## Apply reweighting"
   ]
  },
  {
   "cell_type": "code",
   "execution_count": 48,
   "id": "marked-medicine",
   "metadata": {},
   "outputs": [],
   "source": [
    "two_dfs[1]['MC']['weight'] = reweighter[2].predict_weights(\n",
    "    reweight_two_dfs[1]['MC'].drop('sWeight', 1),\n",
    "    original_weight=reweight_two_dfs[1]['MC']['sWeight']\n",
    ")\n",
    "two_dfs[2]['MC']['weight'] = reweighter[1].predict_weights(\n",
    "   reweight_two_dfs[2]['MC'].drop('sWeight', 1),\n",
    "   original_weight=reweight_two_dfs[2]['MC']['sWeight']\n",
    ")"
   ]
  },
  {
   "cell_type": "code",
   "execution_count": 49,
   "id": "employed-spokesman",
   "metadata": {},
   "outputs": [],
   "source": [
    "save_df = {}\n",
    "for type_df in df.keys():\n",
    "    save_df[type_df] = pd.concat([two_dfs[1][type_df],two_dfs[2][type_df]])"
   ]
  },
  {
   "cell_type": "markdown",
   "id": "private-paradise",
   "metadata": {},
   "source": [
    "## Save"
   ]
  },
  {
   "cell_type": "code",
   "execution_count": 50,
   "id": "detailed-nutrition",
   "metadata": {},
   "outputs": [
    {
     "name": "stdout",
     "output_type": "stream",
     "text": [
      "Root file saved in /home/correiaa/bd2dsttaunu/output/root/BTODstD0X_MC/GBReweighter_BTODstD0X_MC.root\n"
     ]
    }
   ],
   "source": [
    "save_root(save_df['MC'], reweighted_MC_name, 'DecayTree', folder_name=MC_name)"
   ]
  },
  {
   "cell_type": "code",
   "execution_count": 51,
   "id": "incorporated-afternoon",
   "metadata": {},
   "outputs": [
    {
     "name": "stdout",
     "output_type": "stream",
     "text": [
      "Joblib file saved in /home/correiaa/bd2dsttaunu/output/joblib/BTODstD0X_MC/GBReweighter_BTODstD0X_MC_1.joblib\n",
      "Joblib file saved in /home/correiaa/bd2dsttaunu/output/joblib/BTODstD0X_MC/GBReweighter_BTODstD0X_MC_2.joblib\n"
     ]
    }
   ],
   "source": [
    "for num in reweighter.keys():\n",
    "    dump_joblib(reweighter[num], f\"{reweighted_MC_name}_{num}\", folder_name=MC_name)"
   ]
  },
  {
   "cell_type": "code",
   "execution_count": null,
   "id": "competitive-danger",
   "metadata": {},
   "outputs": [],
   "source": []
  }
 ],
 "metadata": {
  "kernelspec": {
   "display_name": "bd2dsttaunu_env",
   "language": "python",
   "name": "bd2dsttaunu_env"
  },
  "language_info": {
   "codemirror_mode": {
    "name": "ipython",
    "version": 3
   },
   "file_extension": ".py",
   "mimetype": "text/x-python",
   "name": "python",
   "nbconvert_exporter": "python",
   "pygments_lexer": "ipython3",
   "version": "3.7.10"
  }
 },
 "nbformat": 4,
 "nbformat_minor": 5
}

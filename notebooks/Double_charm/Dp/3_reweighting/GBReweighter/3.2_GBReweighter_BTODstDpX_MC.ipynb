{
 "cells": [
  {
   "cell_type": "code",
   "execution_count": 1,
   "id": "anticipated-scale",
   "metadata": {},
   "outputs": [],
   "source": [
    "data_type = 'data' # reduced data"
   ]
  },
  {
   "cell_type": "code",
   "execution_count": 2,
   "id": "robust-cooperative",
   "metadata": {},
   "outputs": [
    {
     "ename": "KeyError",
     "evalue": "'weight_MC'",
     "output_type": "error",
     "traceback": [
      "\u001b[0;31m---------------------------------------------------------------------------\u001b[0m",
      "\u001b[0;31mKeyError\u001b[0m                                  Traceback (most recent call last)",
      "\u001b[0;32m<ipython-input-2-a40857bb5302>\u001b[0m in \u001b[0;36m<module>\u001b[0;34m\u001b[0m\n\u001b[1;32m      9\u001b[0m \u001b[0mMC_name\u001b[0m   \u001b[0;34m=\u001b[0m \u001b[0mdata_names\u001b[0m\u001b[0;34m[\u001b[0m\u001b[0;34m'MC'\u001b[0m\u001b[0;34m]\u001b[0m\u001b[0;34m\u001b[0m\u001b[0;34m\u001b[0m\u001b[0m\n\u001b[1;32m     10\u001b[0m \u001b[0mdata_name\u001b[0m \u001b[0;34m=\u001b[0m \u001b[0mdata_names\u001b[0m\u001b[0;34m[\u001b[0m\u001b[0mdata_type\u001b[0m\u001b[0;34m]\u001b[0m\u001b[0;34m\u001b[0m\u001b[0;34m\u001b[0m\u001b[0m\n\u001b[0;32m---> 11\u001b[0;31m \u001b[0mweight_MC_name\u001b[0m \u001b[0;34m=\u001b[0m \u001b[0mdata_names\u001b[0m\u001b[0;34m[\u001b[0m\u001b[0;34m'weight_MC'\u001b[0m\u001b[0;34m]\u001b[0m\u001b[0;34m\u001b[0m\u001b[0;34m\u001b[0m\u001b[0m\n\u001b[0m\u001b[1;32m     12\u001b[0m \u001b[0;34m\u001b[0m\u001b[0m\n\u001b[1;32m     13\u001b[0m \u001b[0mlow_m_Kpipi\u001b[0m \u001b[0;34m=\u001b[0m \u001b[0mlimits_m_Kpipi\u001b[0m\u001b[0;34m[\u001b[0m\u001b[0mdata_type\u001b[0m\u001b[0;34m]\u001b[0m\u001b[0;34m[\u001b[0m\u001b[0;34m'low'\u001b[0m\u001b[0;34m]\u001b[0m\u001b[0;34m\u001b[0m\u001b[0;34m\u001b[0m\u001b[0m\n",
      "\u001b[0;31mKeyError\u001b[0m: 'weight_MC'"
     ]
    }
   ],
   "source": [
    "import sys\n",
    "sys.path.insert(0, '../..')\n",
    "from definition import (\n",
    "    data_names,\n",
    "    limits_m_Kpipi,\n",
    "    columns\n",
    ")\n",
    "\n",
    "MC_name   = data_names['MC']\n",
    "data_name = data_names[data_type]\n",
    "weight_MC_name = data_names['weight_MC']\n",
    "\n",
    "low_m_Kpipi = limits_m_Kpipi[data_type]['low']\n",
    "high_m_Kpipi = limits_m_Kpipi[data_type]['high']\n",
    "\n",
    "print(\"MC name: \", MC_name)\n",
    "print(\"data name: \", data_name)\n",
    "print(\"weight MC name: \", weight_MC_name)\n",
    "print('----')\n",
    "print('m_Kpipi')\n",
    "print(\"low: \", low_m_Kpipi)\n",
    "print(\"high: \", high_m_Kpipi)"
   ]
  },
  {
   "cell_type": "markdown",
   "id": "ranging-japan",
   "metadata": {},
   "source": [
    "The columns that need to be looked at are:\n",
    "- $q^2$: `q2_reco`\n",
    "- *isolation BDT*: `isolation_bdt`\n",
    "- $t_\\tau$: `tau_life_reco`\n",
    "- $m(D^*K\\pi\\pi)$: `m_DstKpipi`\n",
    "- The angles \n",
    "    - $\\theta_X$ ($=\\theta_D$ of the paper?): `theta_X_reco`\n",
    "    - $\\theta_L$: `theta_L_reco`\n",
    "    - $\\chi$: `chi_reco`"
   ]
  },
  {
   "cell_type": "markdown",
   "id": "little-allowance",
   "metadata": {},
   "source": [
    "# Reweighting MC sample of $B \\to D^{*-}\\left(D^{+} \\to K^- \\pi^+ \\pi^+  \\right)X$ Background\n",
    "\n",
    "**INPUTS**\n",
    "- `MC`: $D^+ \\to K^- \\pi^+ \\pi^-$\n",
    "- `data`: LHCb data, with $_s$Weights to project in the $D^+ \\to K^- \\pi^+ \\pi^-$ contribution and project out the other contributions.\n",
    "\n",
    "**GOALS**\n",
    "1. to learn the weights to apply to MC to align MC to data for the $D^+ \\to K^- \\pi^+ \\pi^- $ decays by looking at the MC and $_s$Weighted LHCb data (using BDTs),\n",
    "2. to apply the weights to the general MC.\n",
    "\n",
    "We hope that this will reweight the general MC sample for $B \\to D^{*-} (D^+ \\to 3\\pi X) X$"
   ]
  },
  {
   "cell_type": "markdown",
   "id": "diverse-forty",
   "metadata": {},
   "source": [
    "### Explanation\n",
    "#### 1D comparison cannot be used\n",
    "We could assign compute the weights in the following way:\\\n",
    "For the bin $i$: \n",
    "$$w_{i}= \\frac{\\text{#data}[i]}{\\text{#MC}[i]}$$\n",
    "\n",
    "Disadvantages:\n",
    "- Reweighting one variable might bring disagreement to others\\\n",
    "$\\Rightarrow$ we need a multi-dimensional reweighting procedure.\\\n",
    "$\\Rightarrow$ we need to compare multi-dimensional histograms!\n",
    "- We need to choose the number of bins\n",
    "\n",
    "#### Use ML (boosted reweighting)\n",
    "The procedure is automatised using a ML classifier using decision trees (e.g., gradient classifier).\\\n",
    "1. Dataset = concatenated MC and data (goal: classify MC and data events via a ML classifier)\n",
    "2. Tree splits the space of variables orthogonaly to maximise the difference between MC and LHCb data in these regions. The difference is evaluated with the symmetrised $\\chi^2$ (instead of the usual *MSE*):\n",
    "$$\\chi^2 = \\sum_{\\text{bin }i} \\frac{\\left(\\text{#data}[i]-\\text{#MC}[i]\\right)^2}{\\text{#data}[i]+\\text{#MC}[i]}$$\n",
    "2. Compute weight predictions in leaves\n",
    "\n",
    "Advantages:\n",
    "- Optimal choice of region\n",
    "- Information about the efficiency of the procedure (via the ROC curve for instance)\n",
    "- The ML classifier can be used to re-weight other MC samples\n",
    "- Posssible computation of feature importances\n",
    "\n",
    "Disadvantage: slow\n",
    "\n"
   ]
  },
  {
   "cell_type": "code",
   "execution_count": 3,
   "id": "maritime-basic",
   "metadata": {},
   "outputs": [
    {
     "name": "stdout",
     "output_type": "stream",
     "text": [
      "Welcome to JupyROOT 6.22/06\n"
     ]
    }
   ],
   "source": [
    "# python libraries\n",
    "import numpy as np\n",
    "import pandas as pd\n",
    "import zfit\n",
    "import timeit\n",
    "from scipy.stats import ks_2samp\n",
    "from sklearn.model_selection import train_test_split\n",
    "from itertools import product\n",
    "\n",
    "# hep_ml\n",
    "from hep_ml.reweight import GBReweighter\n",
    "\n",
    "# bd2dsttaunu\n",
    "from bd2dsttaunu.locations import loc\n",
    "\n",
    "# HEA library\n",
    "from HEA.plot import plot_hist_auto, plot_hist, save_fig, plot_hist_var\n",
    "from HEA import load_dataframe\n",
    "from HEA.plot.tools import draw_vline\n",
    "from HEA.definition import latex_params\n",
    "from HEA.pandas_root import load_saved_root\n",
    "from HEA.pandas_root import save_root\n",
    "from HEA.tools.serial import dump_joblib, retrieve_joblib"
   ]
  },
  {
   "cell_type": "markdown",
   "id": "concrete-plasma",
   "metadata": {},
   "source": [
    "## Read the dataframe"
   ]
  },
  {
   "cell_type": "code",
   "execution_count": 4,
   "id": "center-welcome",
   "metadata": {},
   "outputs": [
    {
     "name": "stdout",
     "output_type": "stream",
     "text": [
      "Loading /data/lhcb/users/scantlebury-smead/angular_analysis/double_charm/final_ds_selection_B_DstDpX_Kpipi_truth_matched.root\n",
      "Loading /home/correiaa/bd2dsttaunu/output//root/BTODstDpX/BTODstDpX_with_sWeights.root\n"
     ]
    }
   ],
   "source": [
    "df = {}\n",
    "df['MC'] = load_dataframe(loc.B2DstDplusX_MC, tree_name='DecayTreeTuple/DecayTree', columns=columns+['m_Kpipi'])\n",
    "df['data'] = load_saved_root(data_name + '_with_sWeights', folder_name=data_name)"
   ]
  },
  {
   "cell_type": "code",
   "execution_count": 5,
   "id": "severe-upset",
   "metadata": {},
   "outputs": [
    {
     "ename": "NameError",
     "evalue": "name 'low_m_Kpipi' is not defined",
     "output_type": "error",
     "traceback": [
      "\u001b[0;31m---------------------------------------------------------------------------\u001b[0m",
      "\u001b[0;31mNameError\u001b[0m                                 Traceback (most recent call last)",
      "\u001b[0;32m<ipython-input-5-e38230c24090>\u001b[0m in \u001b[0;36m<module>\u001b[0;34m\u001b[0m\n\u001b[0;32m----> 1\u001b[0;31m \u001b[0mdf\u001b[0m\u001b[0;34m[\u001b[0m\u001b[0;34m'MC'\u001b[0m\u001b[0;34m]\u001b[0m \u001b[0;34m=\u001b[0m \u001b[0mdf\u001b[0m\u001b[0;34m[\u001b[0m\u001b[0;34m'MC'\u001b[0m\u001b[0;34m]\u001b[0m\u001b[0;34m.\u001b[0m\u001b[0mquery\u001b[0m\u001b[0;34m(\u001b[0m\u001b[0;34mf'm_Kpipi > {low_m_Kpipi} and m_Kpipi < {high_m_Kpipi}'\u001b[0m\u001b[0;34m)\u001b[0m\u001b[0;34m\u001b[0m\u001b[0;34m\u001b[0m\u001b[0m\n\u001b[0m\u001b[1;32m      2\u001b[0m \u001b[0;31m# df['data'] = df['data'].query(f'm_Kpipi > {low_m_Kpipi} and m_Kpipi < {high_m_Kpipi}')\u001b[0m\u001b[0;34m\u001b[0m\u001b[0;34m\u001b[0m\u001b[0;34m\u001b[0m\u001b[0m\n",
      "\u001b[0;31mNameError\u001b[0m: name 'low_m_Kpipi' is not defined"
     ]
    }
   ],
   "source": [
    "df['MC'] = df['MC'].query(f'm_Kpipi > {low_m_Kpipi} and m_Kpipi < {high_m_Kpipi}')\n",
    "# df['data'] = df['data'].query(f'm_Kpipi > {low_m_Kpipi} and m_Kpipi < {high_m_Kpipi}')"
   ]
  },
  {
   "cell_type": "code",
   "execution_count": 6,
   "id": "physical-scheme",
   "metadata": {},
   "outputs": [
    {
     "name": "stdout",
     "output_type": "stream",
     "text": [
      "8224\n"
     ]
    }
   ],
   "source": [
    "len_MC = len(df['MC'])\n",
    "print(len_MC)"
   ]
  },
  {
   "cell_type": "code",
   "execution_count": 7,
   "id": "clear-integrity",
   "metadata": {},
   "outputs": [],
   "source": [
    "df['data'] = df['data'].dropna()\n",
    "df['MC'] = df['MC'].dropna()\n",
    "\n",
    "df['data'].reset_index(drop=True, inplace=True)\n",
    "df['MC'].reset_index(drop=True, inplace=True)"
   ]
  },
  {
   "cell_type": "code",
   "execution_count": 8,
   "id": "vital-planner",
   "metadata": {},
   "outputs": [
    {
     "name": "stdout",
     "output_type": "stream",
     "text": [
      "0.004620622568093385\n"
     ]
    }
   ],
   "source": [
    "print(( len_MC - len(df['MC']) ) / len_MC)"
   ]
  },
  {
   "cell_type": "markdown",
   "id": "knowing-barcelona",
   "metadata": {},
   "source": [
    "## Theory - reweighting the MC data\n",
    "https://indico.cern.ch/event/397113/contributions/1837841/attachments/1213955/1771752/ACAT2016-reweighting.pdf\n",
    "\n",
    "Use of the `hep_ml` package: documentation [here](https://arogozhnikov.github.io/hep_ml/reweight.html)"
   ]
  },
  {
   "cell_type": "markdown",
   "id": "alone-cemetery",
   "metadata": {},
   "source": [
    "### `GBReweighter` in `hep_ml`"
   ]
  },
  {
   "cell_type": "markdown",
   "id": "helpful-haiti",
   "metadata": {},
   "source": [
    "We are going to use a `GBReweighter` from the `hep_ml` package. Hopefully, a description is provided by the documentation:\n",
    "\n",
    "*Gradient Boosted Reweighter - a reweighter algorithm based on ensemble of regression trees. Parameters have the same role, as in gradient boosting. Special loss function is used, trees are trained to maximize symmetrized binned chi-squared statistics.*\n",
    "\n",
    "*Training takes much more time than for bin-based versions, but GBReweighter is capable to work in high dimensions while keeping reweighting rule reliable and precise (and even smooth if many trees are used).*"
   ]
  },
  {
   "cell_type": "markdown",
   "id": "inner-housing",
   "metadata": {},
   "source": [
    "## Prepare the dataframes"
   ]
  },
  {
   "cell_type": "markdown",
   "id": "alert-christianity",
   "metadata": {},
   "source": [
    "### Pick up the variables"
   ]
  },
  {
   "cell_type": "code",
   "execution_count": 9,
   "id": "reliable-savannah",
   "metadata": {
    "scrolled": true
   },
   "outputs": [
    {
     "name": "stdout",
     "output_type": "stream",
     "text": [
      "13 available columns:\n",
      "- m_Kpipi\n",
      "- q2_reco\n",
      "- isolation_bdt\n",
      "- tau_life_reco\n",
      "- m_DstKpipi\n",
      "- theta_X_reco\n",
      "- theta_L_reco\n",
      "- chi_reco\n",
      "- costheta_X_reco\n",
      "- costheta_L_reco\n",
      "- coschi_reco\n",
      "- tau_M\n",
      "- B0_M\n"
     ]
    }
   ],
   "source": [
    "print(f\"{len(columns)} available columns:\")\n",
    "for column in columns:\n",
    "    print(\"- \" + column)"
   ]
  },
  {
   "cell_type": "code",
   "execution_count": 10,
   "id": "covered-degree",
   "metadata": {
    "scrolled": true
   },
   "outputs": [
    {
     "name": "stdout",
     "output_type": "stream",
     "text": [
      "5 columns used for training of the GBRWeighter:\n",
      "- q2_reco\n",
      "- isolation_bdt\n",
      "- costheta_X_reco\n",
      "- chi_reco\n",
      "- costheta_L_reco\n"
     ]
    }
   ],
   "source": [
    "training_columns = [\n",
    "    'q2_reco',\n",
    "    'isolation_bdt',    \n",
    "    'costheta_X_reco',\n",
    "    'chi_reco',\n",
    "    'costheta_L_reco',    \n",
    "#     'B0_M'\n",
    "]\n",
    "\n",
    "print(f\"{len(training_columns)} columns used for training of the GBRWeighter:\")\n",
    "for training_column in training_columns:\n",
    "    print(\"- \" + training_column)"
   ]
  },
  {
   "cell_type": "markdown",
   "id": "civil-toddler",
   "metadata": {},
   "source": [
    "We'll add the $_s$Weights to this list"
   ]
  },
  {
   "cell_type": "markdown",
   "id": "static-appointment",
   "metadata": {},
   "source": [
    "### Split the dataframes in two"
   ]
  },
  {
   "cell_type": "code",
   "execution_count": 11,
   "id": "comic-programmer",
   "metadata": {},
   "outputs": [],
   "source": [
    "two_dfs = {\n",
    "    1 : {},\n",
    "    2 : {}\n",
    "}"
   ]
  },
  {
   "cell_type": "code",
   "execution_count": 12,
   "id": "reflected-crime",
   "metadata": {},
   "outputs": [
    {
     "name": "stdout",
     "output_type": "stream",
     "text": [
      "MC\n",
      "data\n"
     ]
    }
   ],
   "source": [
    "for type_df in df.keys():\n",
    "    print(type_df)\n",
    "    two_dfs[1][type_df] = df[type_df].sample(frac=0.5, random_state=20)\n",
    "    two_dfs[2][type_df] = df[type_df].drop(two_dfs[1][type_df].sort_index().index,0).sample(frac=1., random_state=20)"
   ]
  },
  {
   "cell_type": "markdown",
   "id": "alert-xerox",
   "metadata": {},
   "source": [
    "Check: print the number of element in each df."
   ]
  },
  {
   "cell_type": "code",
   "execution_count": 13,
   "id": "chemical-malpractice",
   "metadata": {},
   "outputs": [
    {
     "name": "stdout",
     "output_type": "stream",
     "text": [
      "4093 4093\n",
      "48010 48010\n"
     ]
    }
   ],
   "source": [
    "for type_df in df.keys():\n",
    "    print(len(two_dfs[1][type_df]), len(two_dfs[2][type_df]))"
   ]
  },
  {
   "cell_type": "markdown",
   "id": "minus-translator",
   "metadata": {},
   "source": [
    "### Get the dataframes with only the training variables + the $_s$Weights"
   ]
  },
  {
   "cell_type": "code",
   "execution_count": 14,
   "id": "starting-fighter",
   "metadata": {},
   "outputs": [],
   "source": [
    "reweight_two_dfs = {\n",
    "    1 : {},\n",
    "    2 : {}\n",
    "}\n",
    "for num in reweight_two_dfs.keys():\n",
    "    reweight_two_dfs[num]['MC'] = two_dfs[num]['MC'][training_columns]\n",
    "    reweight_two_dfs[num]['data'] = two_dfs[num]['data'][training_columns + ['sWeight']]"
   ]
  },
  {
   "cell_type": "markdown",
   "id": "furnished-prediction",
   "metadata": {},
   "source": [
    "Check if it worked..."
   ]
  },
  {
   "cell_type": "code",
   "execution_count": 15,
   "id": "resistant-depression",
   "metadata": {},
   "outputs": [],
   "source": [
    "for num in two_dfs.keys():\n",
    "    for type_df in two_dfs[num].keys():\n",
    "        assert (reweight_two_dfs[num]['MC'].columns == training_columns).all()\n",
    "        assert (reweight_two_dfs[num]['data'].columns == training_columns + ['sWeight']).all()"
   ]
  },
  {
   "cell_type": "markdown",
   "id": "fancy-money",
   "metadata": {},
   "source": [
    "### Divide into training and test samples"
   ]
  },
  {
   "cell_type": "code",
   "execution_count": 16,
   "id": "pretty-queen",
   "metadata": {},
   "outputs": [],
   "source": [
    "train_reweight_two_dfs = {\n",
    "    1 : {},\n",
    "    2 : {}\n",
    "}\n",
    "test_reweight_two_dfs = {\n",
    "    1 : {},\n",
    "    2 : {}\n",
    "}"
   ]
  },
  {
   "cell_type": "code",
   "execution_count": 17,
   "id": "mighty-museum",
   "metadata": {},
   "outputs": [],
   "source": [
    "for num in two_dfs.keys():\n",
    "    for type_df in two_dfs[num].keys():\n",
    "        train_reweight_two_dfs[num][type_df], test_reweight_two_dfs[num][type_df] =\\\n",
    "            train_test_split(reweight_two_dfs[num][type_df], \n",
    "                             test_size=0.5,\n",
    "                             random_state=20)"
   ]
  },
  {
   "cell_type": "markdown",
   "id": "floppy-basket",
   "metadata": {},
   "source": [
    "Check if it worked"
   ]
  },
  {
   "cell_type": "code",
   "execution_count": 18,
   "id": "northern-digest",
   "metadata": {},
   "outputs": [
    {
     "name": "stdout",
     "output_type": "stream",
     "text": [
      "2046 2047\n",
      "24005 24005\n",
      "2046 2047\n",
      "24005 24005\n"
     ]
    }
   ],
   "source": [
    "for type_df in two_dfs.keys():\n",
    "    for num in two_dfs[type_df].keys():\n",
    "        print(len(train_reweight_two_dfs[type_df][num]), len(test_reweight_two_dfs[type_df][num]))"
   ]
  },
  {
   "cell_type": "markdown",
   "id": "thorough-imperial",
   "metadata": {},
   "source": [
    "## Hyperparameters tuning "
   ]
  },
  {
   "cell_type": "code",
   "execution_count": 21,
   "id": "unable-integer",
   "metadata": {},
   "outputs": [],
   "source": [
    "from HEA.reweighting.GBReweighter_tools import (\n",
    "    grid_search,\n",
    "    show_sorted_combined_scores\n",
    ")"
   ]
  },
  {
   "cell_type": "code",
   "execution_count": 22,
   "id": "congressional-newman",
   "metadata": {},
   "outputs": [],
   "source": [
    "param_grid = {\n",
    "    \"n_estimators\": np.arange(10, 66, 5),\n",
    "    'learning_rate': [0.1],\n",
    "    \"max_depth\": [2]\n",
    "}\n"
   ]
  },
  {
   "cell_type": "code",
   "execution_count": 23,
   "id": "mineral-emerald",
   "metadata": {
    "scrolled": true
   },
   "outputs": [
    {
     "name": "stdout",
     "output_type": "stream",
     "text": [
      "test of \n",
      "{'n_estimators': 10, 'learning_rate': 0.1, 'max_depth': 2}\n",
      "test of \n",
      "{'n_estimators': 15, 'learning_rate': 0.1, 'max_depth': 2}\n",
      "test of \n",
      "{'n_estimators': 20, 'learning_rate': 0.1, 'max_depth': 2}\n",
      "test of \n",
      "{'n_estimators': 25, 'learning_rate': 0.1, 'max_depth': 2}\n",
      "test of \n",
      "{'n_estimators': 30, 'learning_rate': 0.1, 'max_depth': 2}\n",
      "test of \n",
      "{'n_estimators': 35, 'learning_rate': 0.1, 'max_depth': 2}\n",
      "test of \n",
      "{'n_estimators': 40, 'learning_rate': 0.1, 'max_depth': 2}\n",
      "test of \n",
      "{'n_estimators': 45, 'learning_rate': 0.1, 'max_depth': 2}\n",
      "test of \n",
      "{'n_estimators': 50, 'learning_rate': 0.1, 'max_depth': 2}\n",
      "test of \n",
      "{'n_estimators': 55, 'learning_rate': 0.1, 'max_depth': 2}\n",
      "test of \n",
      "{'n_estimators': 60, 'learning_rate': 0.1, 'max_depth': 2}\n",
      "test of \n",
      "{'n_estimators': 65, 'learning_rate': 0.1, 'max_depth': 2}\n",
      "test of \n",
      "{'n_estimators': 10, 'learning_rate': 0.1, 'max_depth': 2}\n",
      "test of \n",
      "{'n_estimators': 15, 'learning_rate': 0.1, 'max_depth': 2}\n",
      "test of \n",
      "{'n_estimators': 20, 'learning_rate': 0.1, 'max_depth': 2}\n",
      "test of \n",
      "{'n_estimators': 25, 'learning_rate': 0.1, 'max_depth': 2}\n",
      "test of \n",
      "{'n_estimators': 30, 'learning_rate': 0.1, 'max_depth': 2}\n",
      "test of \n",
      "{'n_estimators': 35, 'learning_rate': 0.1, 'max_depth': 2}\n",
      "test of \n",
      "{'n_estimators': 40, 'learning_rate': 0.1, 'max_depth': 2}\n",
      "test of \n",
      "{'n_estimators': 45, 'learning_rate': 0.1, 'max_depth': 2}\n",
      "test of \n",
      "{'n_estimators': 50, 'learning_rate': 0.1, 'max_depth': 2}\n",
      "test of \n",
      "{'n_estimators': 55, 'learning_rate': 0.1, 'max_depth': 2}\n",
      "test of \n",
      "{'n_estimators': 60, 'learning_rate': 0.1, 'max_depth': 2}\n",
      "test of \n",
      "{'n_estimators': 65, 'learning_rate': 0.1, 'max_depth': 2}\n"
     ]
    }
   ],
   "source": [
    "scores = {}\n",
    "best_param_values = {}\n",
    "p_values = {}\n",
    "for num in train_reweight_two_dfs.keys():\n",
    "    scores[num], p_values[num], best_param_values[num] = grid_search(\n",
    "        param_grid,\n",
    "        original_train_df=train_reweight_two_dfs[num]['MC'], \n",
    "        target_train_df=train_reweight_two_dfs[num]['data'].drop('sWeight', 1),\n",
    "        original_test_df=test_reweight_two_dfs[num]['MC'],\n",
    "        target_test_df=test_reweight_two_dfs[num]['data'].drop('sWeight', 1),\n",
    "        target_train_weight=train_reweight_two_dfs[num]['data']['sWeight'],\n",
    "        target_test_weight=test_reweight_two_dfs[num]['data']['sWeight'])"
   ]
  },
  {
   "cell_type": "markdown",
   "id": "empty-regression",
   "metadata": {},
   "source": [
    "Combination of the two scores"
   ]
  },
  {
   "cell_type": "code",
   "execution_count": 24,
   "id": "average-adapter",
   "metadata": {},
   "outputs": [
    {
     "name": "stdout",
     "output_type": "stream",
     "text": [
      "[25.   0.1  2. ] [0.2489472  0.69839112] 17.133119204252353\n",
      "[20.   0.1  2. ] [0.21863558 0.86760121] 17.35917650517289\n",
      "[30.   0.1  2. ] [0.20483105 0.61703492] 17.487293453996177\n",
      "[15.   0.1  2. ] [0.10715301 0.90065762] 17.68163708361757\n",
      "[35.   0.1  2. ] [0.33740652 0.41890715] 18.84240747388331\n",
      "[10.   0.1  2. ] [0.12445097 0.86190656] 19.193408725277266\n",
      "[40.   0.1  2. ] [0.59490841 0.33425383] 21.09114043245453\n",
      "[45.   0.1  2. ] [0.54381109 0.23134812] 22.68865870881895\n",
      "[50.   0.1  2. ] [0.37899513 0.24678366] 30.045692672962936\n",
      "[55.   0.1  2. ] [0.54277032 0.23146242] 33.83570863414276\n",
      "[60.   0.1  2. ] [0.6473479  0.23147908] 60.408677285454736\n",
      "[65.   0.1  2. ] [0.70028563 0.17763431] 430.15928587181276\n"
     ]
    }
   ],
   "source": [
    "show_sorted_combined_scores(scores[1], scores[2], p_values[1], p_values[2])"
   ]
  },
  {
   "cell_type": "markdown",
   "id": "sublime-transmission",
   "metadata": {},
   "source": [
    "We'll choose the one that does not produce overtraining..."
   ]
  },
  {
   "cell_type": "markdown",
   "id": "settled-interaction",
   "metadata": {},
   "source": [
    "### Training"
   ]
  },
  {
   "cell_type": "markdown",
   "id": "fuzzy-beauty",
   "metadata": {},
   "source": [
    "### hyperparameters"
   ]
  },
  {
   "cell_type": "code",
   "execution_count": 85,
   "id": "applicable-accounting",
   "metadata": {},
   "outputs": [],
   "source": [
    "hyperparams ={\n",
    "    'n_estimators': 25,\n",
    "    'learning_rate': 0.1,\n",
    "    'max_depth': 2,\n",
    "    'gb_args': {'random_state': 20},\n",
    "}"
   ]
  },
  {
   "cell_type": "markdown",
   "id": "rural-photograph",
   "metadata": {},
   "source": [
    "### Reweigher classifier"
   ]
  },
  {
   "cell_type": "code",
   "execution_count": 86,
   "id": "human-occasions",
   "metadata": {
    "scrolled": true
   },
   "outputs": [],
   "source": [
    "reweighter = {}\n",
    "\n",
    "for num in train_reweight_two_dfs.keys():\n",
    "    reweighter[num] = GBReweighter(**hyperparams)\n",
    "    reweighter[num] = reweighter[num].fit(\n",
    "        original=train_reweight_two_dfs[num]['MC'], \n",
    "        target=train_reweight_two_dfs[num]['data'].drop('sWeight', 1), # drop the sWeight \n",
    "        target_weight=train_reweight_two_dfs[num]['data']['sWeight']\n",
    "    )"
   ]
  },
  {
   "cell_type": "code",
   "execution_count": 87,
   "id": "alien-rubber",
   "metadata": {},
   "outputs": [],
   "source": [
    "train_MC_weights = {}\n",
    "test_MC_weights = {}\n",
    "\n",
    "for num in reweighter.keys():\n",
    "    train_MC_weights[num] = reweighter[num].predict_weights(train_reweight_two_dfs[num]['MC'])\n",
    "    test_MC_weights[num] = reweighter[num].predict_weights(test_reweight_two_dfs[num]['MC'])"
   ]
  },
  {
   "cell_type": "markdown",
   "id": "final-means",
   "metadata": {},
   "source": [
    "## Test"
   ]
  },
  {
   "cell_type": "code",
   "execution_count": 88,
   "id": "figured-alliance",
   "metadata": {
    "scrolled": false
   },
   "outputs": [
    {
     "name": "stdout",
     "output_type": "stream",
     "text": [
      "Figure saved in /home/correiaa/bd2dsttaunu/output/plots//BTODstDX_MC/BTODstDX_MC_weights/overtraining_1\n",
      "Figure saved in /home/correiaa/bd2dsttaunu/output/plots//BTODstDX_MC/BTODstDX_MC_weights/overtraining_2\n"
     ]
    },
    {
     "data": {
      "image/png": "[encoded data removed]",
      "text/plain": [
       "<Figure size 576x432 with 1 Axes>"
      ]
     },
     "metadata": {
      "needs_background": "light"
     },
     "output_type": "display_data"
    },
    {
     "data": {
      "image/png": "[encoded data removed]",
      "text/plain": [
       "<Figure size 576x432 with 1 Axes>"
      ]
     },
     "metadata": {
      "needs_background": "light"
     },
     "output_type": "display_data"
    }
   ],
   "source": [
    "for num in reweighter.keys():\n",
    "    plot_hist_var(\n",
    "        [train_MC_weights[num],test_MC_weights[num]],\n",
    "        branch='Weight', bar_mode=[True, False],\n",
    "        alpha=[0.7, 0.4],\n",
    "        data_names=['train', 'test'],\n",
    "        n_bins=10, high=2,\n",
    "        colors=['olive', 'crimson'], \n",
    "        folder_name=f'{weight_MC_name}',\n",
    "        fig_name=f'overtraining_{num}'\n",
    "    )"
   ]
  },
  {
   "cell_type": "code",
   "execution_count": 89,
   "id": "productive-clause",
   "metadata": {},
   "outputs": [
    {
     "name": "stdout",
     "output_type": "stream",
     "text": [
      "Reweighting 1\n",
      "KS score: 0.03160336204759988\n",
      "p-value: 0.2489472033545328\n",
      "Reweighting 2\n",
      "KS score: 0.021856604400689372\n",
      "p-value: 0.6983911152237546\n"
     ]
    }
   ],
   "source": [
    "weight_ks_2samp = {}\n",
    "weight_ks_value = {}\n",
    "weight_p_value = {}\n",
    "for num in reweighter.keys():\n",
    "    weight_ks_2samp[num] = ks_2samp(train_MC_weights[num], test_MC_weights[num])\n",
    "\n",
    "    weight_ks_value[num] = weight_ks_2samp[num].statistic\n",
    "    weight_p_value[num] = weight_ks_2samp[num].pvalue\n",
    "    \n",
    "    print(f\"Reweighting {num}\")\n",
    "    print(\"KS score:\", weight_ks_value[num])\n",
    "    print(\"p-value:\", weight_p_value[num])"
   ]
  },
  {
   "cell_type": "markdown",
   "id": "baking-airport",
   "metadata": {},
   "source": [
    "## Apply reweighting"
   ]
  },
  {
   "cell_type": "code",
   "execution_count": 90,
   "id": "temporal-opinion",
   "metadata": {},
   "outputs": [],
   "source": [
    "two_dfs[1]['MC']['weight'] = reweighter[2].predict_weights(reweight_two_dfs[1]['MC'])\n",
    "two_dfs[2]['MC']['weight'] = reweighter[1].predict_weights(reweight_two_dfs[2]['MC'])"
   ]
  },
  {
   "cell_type": "code",
   "execution_count": 91,
   "id": "conceptual-group",
   "metadata": {},
   "outputs": [],
   "source": [
    "save_df = {}\n",
    "for type_df in df.keys():\n",
    "    save_df[type_df] = pd.concat([two_dfs[1][type_df],two_dfs[2][type_df]])"
   ]
  },
  {
   "cell_type": "markdown",
   "id": "pressing-moral",
   "metadata": {},
   "source": [
    "## Save"
   ]
  },
  {
   "cell_type": "code",
   "execution_count": 92,
   "id": "blank-trouble",
   "metadata": {},
   "outputs": [
    {
     "name": "stdout",
     "output_type": "stream",
     "text": [
      "Root file saved in /home/correiaa/bd2dsttaunu/output/root/BTODstDX_MC/BTODstDX_MC_weights.root\n"
     ]
    }
   ],
   "source": [
    "save_root(save_df['MC'], weight_MC_name, 'DecayTree', folder_name=MC_name)"
   ]
  },
  {
   "cell_type": "code",
   "execution_count": 93,
   "id": "collaborative-adventure",
   "metadata": {},
   "outputs": [
    {
     "name": "stdout",
     "output_type": "stream",
     "text": [
      "Joblib file saved in /home/correiaa/bd2dsttaunu/output/joblib/BTODstDX_MC/BTODstDX_MC_weights_1.joblib\n",
      "Joblib file saved in /home/correiaa/bd2dsttaunu/output/joblib/BTODstDX_MC/BTODstDX_MC_weights_2.joblib\n"
     ]
    }
   ],
   "source": [
    "for num in reweighter.keys():\n",
    "    dump_joblib(reweighter[num], f\"{weight_MC_name}_{num}\", folder_name=MC_name)"
   ]
  },
  {
   "cell_type": "code",
   "execution_count": null,
   "id": "delayed-reunion",
   "metadata": {},
   "outputs": [],
   "source": []
  },
  {
   "cell_type": "code",
   "execution_count": null,
   "id": "sufficient-driving",
   "metadata": {},
   "outputs": [],
   "source": []
  },
  {
   "cell_type": "code",
   "execution_count": null,
   "id": "interested-adams",
   "metadata": {},
   "outputs": [],
   "source": []
  },
  {
   "cell_type": "code",
   "execution_count": null,
   "id": "pressing-words",
   "metadata": {},
   "outputs": [],
   "source": []
  }
 ],
 "metadata": {
  "kernelspec": {
   "display_name": "bd2dsttaunu_env",
   "language": "python",
   "name": "bd2dsttaunu_env"
  },
  "language_info": {
   "codemirror_mode": {
    "name": "ipython",
    "version": 3
   },
   "file_extension": ".py",
   "mimetype": "text/x-python",
   "name": "python",
   "nbconvert_exporter": "python",
   "pygments_lexer": "ipython3",
   "version": "3.7.10"
  }
 },
 "nbformat": 4,
 "nbformat_minor": 5
}

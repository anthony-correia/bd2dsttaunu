{
 "cells": [
  {
   "cell_type": "code",
   "execution_count": 1,
   "id": "anticipated-scale",
   "metadata": {},
   "outputs": [],
   "source": [
    "data_type = 'red_data' # reduced data"
   ]
  },
  {
   "cell_type": "code",
   "execution_count": 2,
   "id": "robust-cooperative",
   "metadata": {},
   "outputs": [
    {
     "name": "stdout",
     "output_type": "stream",
     "text": [
      "MC name:  BTODstDX_MC\n",
      "data name:  BTODstDX_reduced\n",
      "weight MC name:  BTODstDX_MC_weights\n",
      "----\n",
      "m_Kpipi\n",
      "low:  1820\n",
      "high:  1950\n"
     ]
    }
   ],
   "source": [
    "import sys\n",
    "sys.path.insert(0, '../..')\n",
    "from definition import (\n",
    "    data_names,\n",
    "    limits_m_Kpipi,\n",
    "    columns\n",
    ")\n",
    "\n",
    "MC_name   = data_names['MC']\n",
    "data_name = data_names[data_type]\n",
    "weight_MC_name = data_names['weight_MC']\n",
    "\n",
    "low_m_Kpipi = limits_m_Kpipi[data_type]['low']\n",
    "high_m_Kpipi = limits_m_Kpipi[data_type]['high']\n",
    "\n",
    "print(\"MC name: \", MC_name)\n",
    "print(\"data name: \", data_name)\n",
    "print(\"weight MC name: \", weight_MC_name)\n",
    "print('----')\n",
    "print('m_Kpipi')\n",
    "print(\"low: \", low_m_Kpipi)\n",
    "print(\"high: \", high_m_Kpipi)"
   ]
  },
  {
   "cell_type": "markdown",
   "id": "ranging-japan",
   "metadata": {},
   "source": [
    "The columns that need to be looked at are:\n",
    "- $q^2$: `q2_reco`\n",
    "- *isolation BDT*: `isolation_bdt`\n",
    "- $t_\\tau$: `tau_life_reco`\n",
    "- $m(D^*K\\pi\\pi)$: `m_DstKpipi`\n",
    "- The angles \n",
    "    - $\\theta_X$ ($=\\theta_D$ of the paper?): `theta_X_reco`\n",
    "    - $\\theta_L$: `theta_L_reco`\n",
    "    - $\\chi$: `chi_reco`"
   ]
  },
  {
   "cell_type": "markdown",
   "id": "little-allowance",
   "metadata": {},
   "source": [
    "# Reweighting MC sample of $B \\to D^{*-}\\left(D^{+} \\to K^- \\pi^+ \\pi^+  \\right)X$ Background\n",
    "\n",
    "**INPUTS**\n",
    "- `MC`: $D^+ \\to K^- \\pi^+ \\pi^-$\n",
    "- `data`: LHCb data, with $_s$Weights to project in the $D^+ \\to K^- \\pi^+ \\pi^-$ contribution and project out the other contributions.\n",
    "\n",
    "**GOALS**\n",
    "1. to learn the weights to apply to MC to align MC to data for the $D^+ \\to K^- \\pi^+ \\pi^- $ decays by looking at the MC and $_s$Weighted LHCb data (using BDTs),\n",
    "2. to apply the weights to the general MC.\n",
    "\n",
    "We hope that this will reweight the general MC sample for $B \\to D^{*-} (D^+ \\to 3\\pi X) X$"
   ]
  },
  {
   "cell_type": "code",
   "execution_count": 3,
   "id": "maritime-basic",
   "metadata": {},
   "outputs": [
    {
     "name": "stdout",
     "output_type": "stream",
     "text": [
      "Welcome to JupyROOT 6.22/06\n"
     ]
    }
   ],
   "source": [
    "# python libraries\n",
    "import numpy as np\n",
    "import pandas as pd\n",
    "import zfit\n",
    "import timeit\n",
    "from scipy.stats import ks_2samp\n",
    "from sklearn.model_selection import train_test_split\n",
    "from itertools import product\n",
    "\n",
    "# hep_ml\n",
    "from hep_ml.reweight import GBReweighter\n",
    "\n",
    "# bd2dsttaunu\n",
    "from bd2dsttaunu.locations import loc\n",
    "\n",
    "# HEA library\n",
    "from HEA.plot import plot_hist_auto, plot_hist, save_fig, plot_hist_var\n",
    "from HEA import load_dataframe\n",
    "from HEA.plot.tools import draw_vline\n",
    "from HEA.definition import latex_params\n",
    "from HEA.pandas_root import load_saved_root\n",
    "from HEA.pandas_root import save_root\n",
    "import HEA.BDT as bt\n",
    "from HEA.tools.serial import dump_joblib, retrieve_joblib"
   ]
  },
  {
   "cell_type": "markdown",
   "id": "concrete-plasma",
   "metadata": {},
   "source": [
    "## Read the dataframe"
   ]
  },
  {
   "cell_type": "code",
   "execution_count": 8,
   "id": "center-welcome",
   "metadata": {},
   "outputs": [
    {
     "name": "stdout",
     "output_type": "stream",
     "text": [
      "Loading /data/lhcb/users/scantlebury-smead/angular_analysis/double_charm/final_ds_selection_B_DstDpX_Kpipi_truth_matched.root\n",
      "Loading /home/correiaa/bd2dsttaunu/output//root/BTODstDX_reduced/BTODstDX_reduced_with_sWeights.root\n"
     ]
    }
   ],
   "source": [
    "df = {}\n",
    "df['MC'] = load_dataframe(loc.B2DstDplusX_MC, tree_name='DecayTreeTuple/DecayTree', columns=columns+['m_Kpipi'])\n",
    "df['data'] = load_saved_root(data_name + '_with_sWeights', folder_name=data_name)"
   ]
  },
  {
   "cell_type": "code",
   "execution_count": 9,
   "id": "severe-upset",
   "metadata": {},
   "outputs": [],
   "source": [
    "df['MC'] = df['MC'].query(f'm_Kpipi > {low_m_Kpipi} and m_Kpipi < {high_m_Kpipi}')\n",
    "# df['data'] = df['data'].query(f'm_Kpipi > {low_m_Kpipi} and m_Kpipi < {high_m_Kpipi}')"
   ]
  },
  {
   "cell_type": "code",
   "execution_count": 10,
   "id": "physical-scheme",
   "metadata": {},
   "outputs": [
    {
     "name": "stdout",
     "output_type": "stream",
     "text": [
      "8224\n"
     ]
    }
   ],
   "source": [
    "len_MC = len(df['MC'])\n",
    "print(len_MC)"
   ]
  },
  {
   "cell_type": "code",
   "execution_count": 11,
   "id": "clear-integrity",
   "metadata": {},
   "outputs": [],
   "source": [
    "df['data'] = df['data'].dropna()\n",
    "df['MC'] = df['MC'].dropna()\n",
    "\n",
    "df['data'].reset_index(drop=True, inplace=True)\n",
    "df['MC'].reset_index(drop=True, inplace=True)"
   ]
  },
  {
   "cell_type": "code",
   "execution_count": 12,
   "id": "vital-planner",
   "metadata": {},
   "outputs": [
    {
     "name": "stdout",
     "output_type": "stream",
     "text": [
      "0.004620622568093385\n"
     ]
    }
   ],
   "source": [
    "print(( len_MC - len(df['MC']) ) / len_MC)"
   ]
  },
  {
   "cell_type": "markdown",
   "id": "knowing-barcelona",
   "metadata": {},
   "source": [
    "## Theory - reweighting the MC data\n",
    "https://indico.cern.ch/event/397113/contributions/1837841/attachments/1213955/1771752/ACAT2016-reweighting.pdf\n",
    "\n",
    "Use of the `hep_ml` package: documentation [here](https://arogozhnikov.github.io/hep_ml/reweight.html)"
   ]
  },
  {
   "cell_type": "markdown",
   "id": "widespread-prisoner",
   "metadata": {},
   "source": [
    "### Explanation\n",
    "#### 1D comparison cannot be used\n",
    "We could assign compute the weights in the following way:\\\n",
    "For the bin $i$: \n",
    "$$w_{i}= \\frac{\\text{#data}[i]}{\\text{#MC}[i]}$$\n",
    "\n",
    "Disadvantages:\n",
    "- Reweighting one variable might bring disagreement to others\\\n",
    "$\\Rightarrow$ we need a multi-dimensional reweighting procedure.\\\n",
    "$\\Rightarrow$ we need to compare multi-dimensional histograms!\n",
    "- We need to choose the number of bins\n",
    "\n",
    "#### Use ML (boosted reweighting)\n",
    "The procedure is automatised using a ML classifier using decision trees (e.g., gradient classifier).\\\n",
    "1. Dataset = concatenated MC and data (goal: classify MC and data events via a ML classifier)\n",
    "2. Tree splits the space of variables orthogonaly to maximise the difference between MC and LHCb data in these regions. The difference is evaluated with the symmetrised $\\chi^2$ (instead of the usual *MSE*):\n",
    "$$\\chi^2 = \\sum_{\\text{bin }i} \\frac{\\left(\\text{#data}[i]-\\text{#MC}[i]\\right)^2}{\\text{#data}[i]+\\text{#MC}[i]}$$\n",
    "2. Compute weight predictions in leaves\n",
    "\n",
    "Advantages:\n",
    "- Optimal choice of region\n",
    "- Information about the efficiency of the procedure (via the ROC curve for instance)\n",
    "- The ML classifier can be used to re-weight other MC samples\n",
    "- Posssible computation of feature importances\n",
    "\n",
    "Disadvantage: slow\n",
    "\n"
   ]
  },
  {
   "cell_type": "markdown",
   "id": "alone-cemetery",
   "metadata": {},
   "source": [
    "### `GBReweighter` in `hep_ml`"
   ]
  },
  {
   "cell_type": "markdown",
   "id": "helpful-haiti",
   "metadata": {},
   "source": [
    "We are going to use a `GBReweighter` from the `hep_ml` package. Hopefully, a description is provided by the documentation:\n",
    "\n",
    "*Gradient Boosted Reweighter - a reweighter algorithm based on ensemble of regression trees. Parameters have the same role, as in gradient boosting. Special loss function is used, trees are trained to maximize symmetrized binned chi-squared statistics.*\n",
    "\n",
    "*Training takes much more time than for bin-based versions, but GBReweighter is capable to work in high dimensions while keeping reweighting rule reliable and precise (and even smooth if many trees are used).*"
   ]
  },
  {
   "cell_type": "markdown",
   "id": "inner-housing",
   "metadata": {},
   "source": [
    "## Prepare the dataframes"
   ]
  },
  {
   "cell_type": "markdown",
   "id": "alert-christianity",
   "metadata": {},
   "source": [
    "### Pick up the variables"
   ]
  },
  {
   "cell_type": "code",
   "execution_count": 13,
   "id": "reliable-savannah",
   "metadata": {
    "scrolled": true
   },
   "outputs": [
    {
     "name": "stdout",
     "output_type": "stream",
     "text": [
      "13 available columns:\n",
      "- m_Kpipi\n",
      "- q2_reco\n",
      "- isolation_bdt\n",
      "- tau_life_reco\n",
      "- m_DstKpipi\n",
      "- theta_X_reco\n",
      "- theta_L_reco\n",
      "- chi_reco\n",
      "- costheta_X_reco\n",
      "- costheta_L_reco\n",
      "- coschi_reco\n",
      "- tau_M\n",
      "- B0_M\n"
     ]
    }
   ],
   "source": [
    "print(f\"{len(columns)} available columns:\")\n",
    "for column in columns:\n",
    "    print(\"- \" + column)"
   ]
  },
  {
   "cell_type": "code",
   "execution_count": 14,
   "id": "covered-degree",
   "metadata": {
    "scrolled": true
   },
   "outputs": [
    {
     "name": "stdout",
     "output_type": "stream",
     "text": [
      "6 columns used for training of the GBRWeighter:\n",
      "- costheta_X_reco\n",
      "- costheta_L_reco\n",
      "- chi_reco\n",
      "- isolation_bdt\n",
      "- q2_reco\n",
      "- B0_M\n"
     ]
    }
   ],
   "source": [
    "training_columns = [\n",
    "    'costheta_X_reco',\n",
    "    'costheta_L_reco',\n",
    "    'chi_reco',\n",
    "    'isolation_bdt',\n",
    "    'q2_reco',\n",
    "    'B0_M'\n",
    "]\n",
    "\n",
    "print(f\"{len(training_columns)} columns used for training of the GBRWeighter:\")\n",
    "for training_column in training_columns:\n",
    "    print(\"- \" + training_column)"
   ]
  },
  {
   "cell_type": "markdown",
   "id": "civil-toddler",
   "metadata": {},
   "source": [
    "We'll add the $_s$Weights to this list"
   ]
  },
  {
   "cell_type": "markdown",
   "id": "static-appointment",
   "metadata": {},
   "source": [
    "### Split the dataframes in two"
   ]
  },
  {
   "cell_type": "code",
   "execution_count": 15,
   "id": "comic-programmer",
   "metadata": {},
   "outputs": [],
   "source": [
    "two_dfs = {\n",
    "    1 : {},\n",
    "    2 : {}\n",
    "}"
   ]
  },
  {
   "cell_type": "code",
   "execution_count": 16,
   "id": "reflected-crime",
   "metadata": {},
   "outputs": [
    {
     "name": "stdout",
     "output_type": "stream",
     "text": [
      "MC\n",
      "data\n"
     ]
    }
   ],
   "source": [
    "for type_df in df.keys():\n",
    "    print(type_df)\n",
    "    two_dfs[1][type_df] = df[type_df].sample(frac=0.5, random_state=20)\n",
    "    two_dfs[2][type_df] = df[type_df].drop(two_dfs[1][type_df].sort_index().index,0).sample(frac=1., random_state=20)"
   ]
  },
  {
   "cell_type": "markdown",
   "id": "alert-xerox",
   "metadata": {},
   "source": [
    "Check: print the number of element in each df."
   ]
  },
  {
   "cell_type": "code",
   "execution_count": 17,
   "id": "chemical-malpractice",
   "metadata": {},
   "outputs": [
    {
     "name": "stdout",
     "output_type": "stream",
     "text": [
      "4093 4093\n",
      "48010 48010\n"
     ]
    }
   ],
   "source": [
    "for type_df in df.keys():\n",
    "    print(len(two_dfs[1][type_df]), len(two_dfs[2][type_df]))"
   ]
  },
  {
   "cell_type": "markdown",
   "id": "minus-translator",
   "metadata": {},
   "source": [
    "### Get the dataframes with only the training variables + the $_s$Weights"
   ]
  },
  {
   "cell_type": "code",
   "execution_count": 18,
   "id": "starting-fighter",
   "metadata": {},
   "outputs": [],
   "source": [
    "reweight_two_dfs = {\n",
    "    1 : {},\n",
    "    2 : {}\n",
    "}\n",
    "for num in reweight_two_dfs.keys():\n",
    "    reweight_two_dfs[num]['MC'] = two_dfs[num]['MC'][training_columns]\n",
    "    reweight_two_dfs[num]['data'] = two_dfs[num]['data'][training_columns + ['sWeight']]"
   ]
  },
  {
   "cell_type": "markdown",
   "id": "furnished-prediction",
   "metadata": {},
   "source": [
    "Check if it worked..."
   ]
  },
  {
   "cell_type": "code",
   "execution_count": 19,
   "id": "resistant-depression",
   "metadata": {},
   "outputs": [],
   "source": [
    "for num in two_dfs.keys():\n",
    "    for type_df in two_dfs[num].keys():\n",
    "        assert (reweight_two_dfs[num]['MC'].columns == training_columns).all()\n",
    "        assert (reweight_two_dfs[num]['data'].columns == training_columns + ['sWeight']).all()"
   ]
  },
  {
   "cell_type": "markdown",
   "id": "fancy-money",
   "metadata": {},
   "source": [
    "### Divide into training and test samples"
   ]
  },
  {
   "cell_type": "code",
   "execution_count": 20,
   "id": "pretty-queen",
   "metadata": {},
   "outputs": [],
   "source": [
    "train_reweight_two_dfs = {\n",
    "    1 : {},\n",
    "    2 : {}\n",
    "}\n",
    "test_reweight_two_dfs = {\n",
    "    1 : {},\n",
    "    2 : {}\n",
    "}"
   ]
  },
  {
   "cell_type": "code",
   "execution_count": 21,
   "id": "mighty-museum",
   "metadata": {},
   "outputs": [],
   "source": [
    "for num in two_dfs.keys():\n",
    "    for type_df in two_dfs[num].keys():\n",
    "        train_reweight_two_dfs[num][type_df], test_reweight_two_dfs[num][type_df] =\\\n",
    "            train_test_split(reweight_two_dfs[num][type_df], \n",
    "                             test_size=0.5,\n",
    "                             random_state=20)"
   ]
  },
  {
   "cell_type": "markdown",
   "id": "floppy-basket",
   "metadata": {},
   "source": [
    "Check if it worked"
   ]
  },
  {
   "cell_type": "code",
   "execution_count": 22,
   "id": "northern-digest",
   "metadata": {},
   "outputs": [
    {
     "name": "stdout",
     "output_type": "stream",
     "text": [
      "2046 2047\n",
      "24005 24005\n",
      "2046 2047\n",
      "24005 24005\n"
     ]
    }
   ],
   "source": [
    "for type_df in two_dfs.keys():\n",
    "    for num in two_dfs[type_df].keys():\n",
    "        print(len(train_reweight_two_dfs[type_df][num]), len(test_reweight_two_dfs[type_df][num]))"
   ]
  },
  {
   "cell_type": "markdown",
   "id": "thorough-imperial",
   "metadata": {},
   "source": [
    "## Hyperparameters tuning "
   ]
  },
  {
   "cell_type": "code",
   "execution_count": 23,
   "id": "invalid-audio",
   "metadata": {},
   "outputs": [],
   "source": [
    "from HEA.tools import get_chi2_2samp"
   ]
  },
  {
   "cell_type": "code",
   "execution_count": 24,
   "id": "unable-integer",
   "metadata": {},
   "outputs": [],
   "source": [
    "def compute_score(train_weights, test_weights):\n",
    "    return ks_2samp(train_weights, test_weights).statistic\n",
    "\n",
    "def compute_pvalue(train_weights, test_weights):\n",
    "    return ks_2samp(train_weights, test_weights).pvalue\n",
    "\n",
    "def compute_chi2(data_test_df, MC_test_df, data_test_weight, MC_test_weight, n_bins=15):\n",
    "    columns = data_test_df.columns\n",
    "    chi2 = 0\n",
    "    for column in columns:\n",
    "        data = data_test_df[column]\n",
    "        original_MC = MC_test_df[column]\n",
    "                \n",
    "        chi2 += get_chi2_2samp(original_MC, data, \n",
    "                               n_bins=n_bins,\n",
    "                               low=None, high=None,\n",
    "                               weights1=MC_test_weight, \n",
    "                               weights2=data_test_weight)\n",
    "    return chi2"
   ]
  },
  {
   "cell_type": "code",
   "execution_count": 25,
   "id": "suited-poison",
   "metadata": {},
   "outputs": [],
   "source": [
    "def get_best_params(param_grid,\n",
    "                    original_train_df, target_train_df, \n",
    "                    original_test_df, target_test_df,\n",
    "                    target_train_weight=None, \n",
    "                    target_test_weight=None,\n",
    "                    **fit_params):\n",
    "    best_param_values = {}\n",
    "\n",
    "    param_values_lists = product(*param_grid.values())\n",
    "    param_names = param_grid.keys()\n",
    "    \n",
    "    best_score = np.inf\n",
    "    \n",
    "    scores = {}\n",
    "    p_values = {}\n",
    "    \n",
    "    for param_values_list in param_values_lists:\n",
    "        \n",
    "        hyperparams = dict(zip(param_names, param_values_list))\n",
    "        print(\"test of \")\n",
    "        print(hyperparams)\n",
    "        \n",
    "        reweighter = GBReweighter(gb_args={'random_state': 20},\n",
    "                                  **hyperparams)\n",
    "        reweighter = reweighter.fit(\n",
    "            original=original_train_df,\n",
    "            target=target_train_df,\n",
    "            target_weight=target_train_weight,\n",
    "            **fit_params\n",
    "        )\n",
    "        \n",
    "        MC_test_weight = reweighter.predict_weights(original_test_df)\n",
    "        MC_train_weight = reweighter.predict_weights(original_train_df)\n",
    "        \n",
    "        scores[tuple(param_values_list)] = compute_chi2(\n",
    "            data_test_df=target_test_df,\n",
    "            MC_test_df=original_test_df,\n",
    "            data_test_weight=target_test_weight,\n",
    "            MC_test_weight=MC_test_weight,\n",
    "        )\n",
    "        \n",
    "        p_values[tuple(param_values_list)] = compute_pvalue(MC_train_weight, MC_test_weight)\n",
    "        \n",
    "        \n",
    "        if scores[tuple(param_values_list)] < best_score:\n",
    "            best_score = scores[tuple(param_values_list)]\n",
    "            best_param_values = tuple(param_values_list)\n",
    "        \n",
    "    return scores, p_values, best_param_values  \n"
   ]
  },
  {
   "cell_type": "code",
   "execution_count": 26,
   "id": "congressional-newman",
   "metadata": {},
   "outputs": [],
   "source": [
    "param_grid = {\n",
    "    \"n_estimators\": np.arange(10, 66, 5),\n",
    "    'learning_rate': [0.08],\n",
    "    \"max_depth\": [2]\n",
    "}\n"
   ]
  },
  {
   "cell_type": "code",
   "execution_count": 27,
   "id": "mineral-emerald",
   "metadata": {
    "scrolled": true
   },
   "outputs": [
    {
     "name": "stdout",
     "output_type": "stream",
     "text": [
      "test of \n",
      "{'n_estimators': 10, 'learning_rate': 0.08, 'max_depth': 2}\n",
      "test of \n",
      "{'n_estimators': 15, 'learning_rate': 0.08, 'max_depth': 2}\n",
      "test of \n",
      "{'n_estimators': 20, 'learning_rate': 0.08, 'max_depth': 2}\n",
      "test of \n",
      "{'n_estimators': 25, 'learning_rate': 0.08, 'max_depth': 2}\n",
      "test of \n",
      "{'n_estimators': 30, 'learning_rate': 0.08, 'max_depth': 2}\n",
      "test of \n",
      "{'n_estimators': 35, 'learning_rate': 0.08, 'max_depth': 2}\n",
      "test of \n",
      "{'n_estimators': 40, 'learning_rate': 0.08, 'max_depth': 2}\n",
      "test of \n",
      "{'n_estimators': 45, 'learning_rate': 0.08, 'max_depth': 2}\n",
      "test of \n",
      "{'n_estimators': 50, 'learning_rate': 0.08, 'max_depth': 2}\n",
      "test of \n",
      "{'n_estimators': 55, 'learning_rate': 0.08, 'max_depth': 2}\n",
      "test of \n",
      "{'n_estimators': 60, 'learning_rate': 0.08, 'max_depth': 2}\n",
      "test of \n",
      "{'n_estimators': 65, 'learning_rate': 0.08, 'max_depth': 2}\n",
      "test of \n",
      "{'n_estimators': 10, 'learning_rate': 0.08, 'max_depth': 2}\n",
      "test of \n",
      "{'n_estimators': 15, 'learning_rate': 0.08, 'max_depth': 2}\n",
      "test of \n",
      "{'n_estimators': 20, 'learning_rate': 0.08, 'max_depth': 2}\n",
      "test of \n",
      "{'n_estimators': 25, 'learning_rate': 0.08, 'max_depth': 2}\n",
      "test of \n",
      "{'n_estimators': 30, 'learning_rate': 0.08, 'max_depth': 2}\n",
      "test of \n",
      "{'n_estimators': 35, 'learning_rate': 0.08, 'max_depth': 2}\n",
      "test of \n",
      "{'n_estimators': 40, 'learning_rate': 0.08, 'max_depth': 2}\n",
      "test of \n",
      "{'n_estimators': 45, 'learning_rate': 0.08, 'max_depth': 2}\n",
      "test of \n",
      "{'n_estimators': 50, 'learning_rate': 0.08, 'max_depth': 2}\n",
      "test of \n",
      "{'n_estimators': 55, 'learning_rate': 0.08, 'max_depth': 2}\n",
      "test of \n",
      "{'n_estimators': 60, 'learning_rate': 0.08, 'max_depth': 2}\n",
      "test of \n",
      "{'n_estimators': 65, 'learning_rate': 0.08, 'max_depth': 2}\n"
     ]
    }
   ],
   "source": [
    "scores = {}\n",
    "best_param_values = {}\n",
    "p_values = {}\n",
    "for num in train_reweight_two_dfs.keys():\n",
    "    scores[num], p_values[num], best_param_values[num] = get_best_params(\n",
    "        param_grid,\n",
    "        original_train_df=train_reweight_two_dfs[num]['MC'], \n",
    "        target_train_df=train_reweight_two_dfs[num]['data'].drop('sWeight', 1),\n",
    "        original_test_df=test_reweight_two_dfs[num]['MC'],\n",
    "        target_test_df=test_reweight_two_dfs[num]['data'].drop('sWeight', 1),\n",
    "        target_train_weight=train_reweight_two_dfs[num]['data']['sWeight'],\n",
    "        target_test_weight=test_reweight_two_dfs[num]['data']['sWeight'])"
   ]
  },
  {
   "cell_type": "code",
   "execution_count": 28,
   "id": "legitimate-sauce",
   "metadata": {},
   "outputs": [
    {
     "data": {
      "text/plain": [
       "{1: (35, 0.08, 2), 2: (25, 0.08, 2)}"
      ]
     },
     "execution_count": 28,
     "metadata": {},
     "output_type": "execute_result"
    }
   ],
   "source": [
    "best_param_values"
   ]
  },
  {
   "cell_type": "code",
   "execution_count": 29,
   "id": "pediatric-throat",
   "metadata": {
    "scrolled": true
   },
   "outputs": [
    {
     "data": {
      "text/plain": [
       "{1: {(10, 0.08, 2): 27.774233346785845,\n",
       "  (15, 0.08, 2): 26.10248888861819,\n",
       "  (20, 0.08, 2): 26.035388607587937,\n",
       "  (25, 0.08, 2): 25.871109179273404,\n",
       "  (30, 0.08, 2): 25.43106312517091,\n",
       "  (35, 0.08, 2): 25.018404600125137,\n",
       "  (40, 0.08, 2): 25.49538216505264,\n",
       "  (45, 0.08, 2): 25.98759454699293,\n",
       "  (50, 0.08, 2): 26.47816388943056,\n",
       "  (55, 0.08, 2): 26.635096133626906,\n",
       "  (60, 0.08, 2): 27.827105971950054,\n",
       "  (65, 0.08, 2): 30.13681848366454},\n",
       " 2: {(10, 0.08, 2): 21.47729643496763,\n",
       "  (15, 0.08, 2): 20.30373863233215,\n",
       "  (20, 0.08, 2): 19.817279731283065,\n",
       "  (25, 0.08, 2): 19.62052184690294,\n",
       "  (30, 0.08, 2): 19.813847938850493,\n",
       "  (35, 0.08, 2): 20.086147671194134,\n",
       "  (40, 0.08, 2): 20.85292093282475,\n",
       "  (45, 0.08, 2): 21.32476410387637,\n",
       "  (50, 0.08, 2): 21.854196788258314,\n",
       "  (55, 0.08, 2): 22.229024602202912,\n",
       "  (60, 0.08, 2): 22.78397315617631,\n",
       "  (65, 0.08, 2): 24.632711077170523}}"
      ]
     },
     "execution_count": 29,
     "metadata": {},
     "output_type": "execute_result"
    }
   ],
   "source": [
    "scores"
   ]
  },
  {
   "cell_type": "markdown",
   "id": "empty-regression",
   "metadata": {},
   "source": [
    "Combination of the two scores"
   ]
  },
  {
   "cell_type": "code",
   "execution_count": 30,
   "id": "incoming-documentation",
   "metadata": {
    "scrolled": false
   },
   "outputs": [],
   "source": [
    "combined_scores = []\n",
    "two_p_values = []\n",
    "parameter_values_list = list(list(scores.values())[0].keys())\n",
    "\n",
    "for parameter_values in parameter_values_list:\n",
    "    combined_scores.append((scores[1][parameter_values] + scores[2][parameter_values]) / 2)\n",
    "    two_p_values.append((p_values[1][parameter_values], p_values[2][parameter_values]))\n",
    "    \n",
    "index_sorting = np.argsort(combined_scores)\n",
    "sorted_parameter_values_list = np.array(parameter_values_list)[index_sorting]\n",
    "sorted_two_p_values = np.array(two_p_values)[index_sorting]\n",
    "sorted_combined_scores = np.array(combined_scores)[index_sorting]"
   ]
  },
  {
   "cell_type": "code",
   "execution_count": 31,
   "id": "editorial-universe",
   "metadata": {},
   "outputs": [
    {
     "name": "stdout",
     "output_type": "stream",
     "text": [
      "[35.    0.08  2.  ] [0.08492753 0.24942745] 22.552276135659636\n",
      "[30.    0.08  2.  ] [0.05197308 0.39386541] 22.6224555320107\n",
      "[25.    0.08  2.  ] [0.19294344 0.37272394] 22.74581551308817\n",
      "[20.    0.08  2.  ] [0.24692552 0.27163378] 22.9263341694355\n",
      "[40.    0.08  2.  ] [0.06713291 0.3390056 ] 23.174151548938696\n",
      "[15.    0.08  2.  ] [0.20422319 0.16386507] 23.20311376047517\n",
      "[45.    0.08  2.  ] [0.08588299 0.28217306] 23.65617932543465\n",
      "[50.    0.08  2.  ] [0.09272904 0.1905083 ] 24.166180338844438\n",
      "[55.    0.08  2.  ] [0.06711224 0.0733613 ] 24.432060367914907\n",
      "[10.    0.08  2.  ] [0.73069876 0.47920922] 24.625764890876738\n",
      "[60.    0.08  2.  ] [0.03697508 0.01594457] 25.30553956406318\n",
      "[65.    0.08  2.  ] [0.04798346 0.04027499] 27.384764780417534\n"
     ]
    }
   ],
   "source": [
    "for sorted_parameter_values, two_p_values, combine_score\\\n",
    "    in zip(sorted_parameter_values_list, sorted_two_p_values, sorted_combined_scores):\n",
    "    \n",
    "    print(sorted_parameter_values, two_p_values, combine_score)"
   ]
  },
  {
   "cell_type": "markdown",
   "id": "intermediate-scheme",
   "metadata": {},
   "source": [
    "```\n",
    "[45.    0.08  2.  ] [0.08588299 0.62481767] 23.851577444974666\n",
    "[40.    0.08  2.  ] [0.06713291 0.52150114] 23.963077110935302\n",
    "[50.    0.08  2.  ] [0.09272904 0.67759855] 23.977618966492937\n",
    "[55.    0.08  2.  ] [0.06711224 0.72984613] 24.031673796505313\n",
    "[35.    0.08  2.  ] [0.08492753 0.72984613] 24.303198686662057\n",
    "[60.    0.08  2.  ] [0.03697508 0.65120748] 24.629279503861873\n",
    "[30.    0.08  2.  ] [0.05197308 0.70385902] 25.021687051982983\n",
    "[25.    0.08  2.  ] [0.19294344 0.65120748] 25.328586041731597\n",
    "[20.    0.08  2.  ] [0.24692552 0.78038213] 25.765472920663047\n",
    "[65.    0.08  2.  ] [0.04798346 0.65120748] 25.866519505092377\n",
    "[15.    0.08  2.  ] [0.20422319 0.89061342] 25.924312318876574\n",
    "[10.    0.08  2.  ] [0.73069876 0.92496348] 27.53773684182707\n",
    "```"
   ]
  },
  {
   "cell_type": "markdown",
   "id": "sublime-transmission",
   "metadata": {},
   "source": [
    "We'll choose the one that does not produce overtraining..."
   ]
  },
  {
   "cell_type": "markdown",
   "id": "brazilian-burden",
   "metadata": {},
   "source": [
    "```\n",
    "[40.   0.1  2. ] [0.21926036 0.52150114] 23.475880955481806\n",
    "[50.   0.1  2. ] [0.13516849 0.62481767] 23.541430988234556\n",
    "[45.   0.1  2. ] [0.14523745 0.62481767] 23.649392663902855\n",
    "[35.   0.1  2. ] [0.23405883 0.49668849] 23.90169033820157\n",
    "[30.   0.1  2. ] [0.42219662 0.26795165] 23.98272694823268\n",
    "[25.   0.1  2. ] [0.10020651 0.4487673 ] 24.962176333219176\n",
    "[20.   0.1  2. ] [0.15530281 0.57251135] 25.132737694871974\n",
    "[55.   0.1  2. ] [0.08579709 0.49668849] 25.267697383436875\n",
    "[15.   0.1  2. ] [0.20426191 0.99072031] 25.776064336055914\n",
    "[60.   0.1  2. ] [0.10805764 0.54680016] 26.730824061497515\n",
    "[10.   0.1  2. ] [0.54764723 0.78038213] 26.784396216152416\n",
    "[65.   0.1  2. ] [0.20626529 0.57251135] 28.661197138993856\n",
    "[5.  0.1 2. ] [0.78079908 0.8046039 ] 29.274798919844624\n",
    "```\n",
    "\n",
    "```\n",
    "[3.e+02 1.e-02 2.e+00] [0.21818143 0.42575736] 24.266403272924123\n",
    "[4.e+02 1.e-02 2.e+00] [0.13494746 0.54680016] 24.3662404028603\n",
    "[2.e+02 1.e-02 2.e+00] [0.09213266 0.57251135] 25.28120329937581\n",
    "[5.e+02 1.e-02 2.e+00] [0.33776507 0.54680016] 26.040974837964434\n",
    "[1.e+02 1.e-02 2.e+00] [0.08449992 0.99072031] 26.658974892581163\n",
    "```"
   ]
  },
  {
   "cell_type": "markdown",
   "id": "motivated-translation",
   "metadata": {},
   "source": [
    "### NEW\n",
    "\n",
    "```python\n",
    "param_grid1 = {\n",
    "    \"n_estimators\": np.arange(5, 41, 5),\n",
    "    'learning_rate': [0.08, 0.1, 0.2],\n",
    "    \"max_depth\": [2]\n",
    "}\n",
    "```\n",
    "\n",
    "We got\n",
    "```\n",
    "[35.   0.1  2. ] [0.04243613 0.14580316] 17.204705014854795\n",
    "[40.   0.1  2. ] [0.03561751 0.1007004 ] 17.304617023071327\n",
    "[20.   0.2  2. ] [0.02057248 0.09112551] 17.350965791856257\n",
    "[25.   0.1  2. ] [0.05478583 0.37505297] 17.387032857057847\n",
    "[25.    0.08  2.  ] [0.0960893  0.56858059] 17.432990319644798\n",
    "[25.   0.2  2. ] [0.01037332 0.00569619] 17.46101796310103\n",
    "[20.    0.08  2.  ] [0.13938146 0.3362366 ] 17.509012918646327\n",
    "[35.    0.08  2.  ] [0.01267644 0.23390394] 17.533828037981888\n",
    "[10.   0.2  2. ] [0.08223954 0.29822321] 17.57399416706999\n",
    "[30.    0.08  2.  ] [0.02259823 0.62009063] 17.608326677169444\n",
    "[40.    0.08  2.  ] [0.01147279 0.08600054] 17.612800167118856\n",
    "[15.   0.1  2. ] [0.07597075 0.44339766] 17.675758606014746\n",
    "[15.    0.08  2.  ] [0.14970174 0.298305  ] 17.689984883001053\n",
    "[20.   0.1  2. ] [0.12964442 0.46443359] 17.726802504684436\n",
    "[30.   0.1  2. ] [0.03561751 0.06240627] 17.756068440411973\n",
    "[15.   0.2  2. ] [0.02259823 0.29388082] 17.81294718362126\n",
    "[5.  0.2 2. ] [0.34545927 0.24789508] 17.92626401814431\n",
    "[10.   0.1  2. ] [0.16062682 0.33594693] 17.958811169968634\n",
    "[35.   0.2  2. ] [0.02479927 0.01745116] 18.06004789914747\n",
    "[40.   0.2  2. ] [0.00498654 0.0055831 ] 18.17066239578507\n",
    "[10.    0.08  2.  ] [0.430723   0.31668234] 18.347555323688205\n",
    "[30.   0.2  2. ] [0.01037332 0.00189689] 18.50799681622416\n",
    "[5.  0.1 2. ] [0.52659211 0.7010685 ] 18.959114301931237\n",
    "[5.   0.08 2.  ] [0.73426451 0.72767987] 19.328738998441267\n",
    "```\n",
    "\n",
    "```python\n",
    "param_grid2 = {\n",
    "    \"n_estimators\": np.arange(100, 501, 50),\n",
    "    'learning_rate': [0.008, 0.01, 0.02],\n",
    "    \"max_depth\": [2]\n",
    "}\n",
    "```\n",
    "\n",
    "We got\n",
    "```\n",
    "[4.e+02 8.e-03 2.e+00] [0.02057248 0.09279602] 17.31988310363151\n",
    "[3.e+02 1.e-02 2.e+00] [0.02057248 0.10041842] 17.35463002930989\n",
    "[3.5e+02 1.0e-02 2.0e+00] [0.01699969 0.052956  ] 17.358171693844334\n",
    "[4.5e+02 8.0e-03 2.0e+00] [0.01871007 0.02612439] 17.362009739269507\n",
    "[1.5e+02 2.0e-02 2.0e+00] [0.01399271 0.17909191] 17.362519853501226\n",
    "[5.e+02 8.e-03 2.e+00] [0.02718818 0.00723932] 17.403594356688465\n",
    "[4.e+02 1.e-02 2.e+00] [0.02718818 0.01333334] 17.442872977723113\n",
    "[3.5e+02 8.0e-03 2.0e+00] [0.02057248 0.26606031] 17.496934056693657\n",
    "[3.e+02 8.e-03 2.e+00] [0.07011127 0.48849563] 17.51813105052817\n",
    "[2.5e+02 1.0e-02 2.0e+00] [0.0325831  0.37928121] 17.523248914885457\n",
    "[4.5e+02 1.0e-02 2.0e+00] [0.02718818 0.00652507] 17.53414730794943\n",
    "[2.e+02 1.e-02 2.e+00] [0.0960893 0.3769243] 17.54651054974712\n",
    "[2.5e+02 8.0e-03 2.0e+00] [0.0960893  0.35623733] 17.55104062650345\n",
    "[2.e+02 2.e-02 2.e+00] [0.02479927 0.00723109] 17.56128256840526\n",
    "[1.e+02 2.e-02 2.e+00] [0.07597075 0.39840044] 17.564532027759718\n",
    "[2.e+02 8.e-03 2.e+00] [0.16062682 0.39837519] 17.588123526133874\n",
    "[1.5e+02 1.0e-02 2.0e+00] [0.14970174 0.43913325] 17.596148817452693\n",
    "[1.5e+02 8.0e-03 2.0e+00] [0.04625267 0.39789937] 17.63168086959257\n",
    "[2.5e+02 2.0e-02 2.0e+00] [0.03561751 0.00802359] 17.63781880706499\n",
    "[5.e+02 1.e-02 2.e+00] [0.04625267 0.00301948] 17.6608337635489\n",
    "[1.e+02 1.e-02 2.e+00] [0.06464057 0.3559977 ] 17.887015660045066\n",
    "[3.e+02 2.e-02 2.e+00] [0.03889657 0.00239803] 18.117195159282417\n",
    "[1.e+02 8.e-03 2.e+00] [0.07011127 0.28070864] 18.247215079917797\n",
    "[3.5e+02 2.0e-02 2.0e+00] [0.02479927 0.00056454] 20.049189948211634\n",
    "[4.e+02 2.e-02 2.e+00] [0.02479927 0.00104831] 61.15756519400456\n",
    "[4.5e+02 2.0e-02 2.0e+00] [0.01871007 0.00072773] 406.5462323328615\n",
    "[5.e+02 2.e-02 2.e+00] [0.01543061 0.00033984] 2215.0131306643543\n",
    "```\n",
    "\n",
    "\n",
    "\n",
    "### PREVIOUSLY\n",
    "\n",
    "\n",
    "\n",
    "#### `learning_rate = 0.01` and `max_depth = 2`\n",
    "```\n",
    "[3.5e+02 1.0e-02 2.0e+00] [0.02057248 0.02057248] 17.38683667736378\n",
    "[3.e+02 1.e-02 2.e+00] [0.01871007 0.01871007] 17.404741620229604\n",
    "[4.e+02 1.e-02 2.e+00] [0.02057248 0.02057248] 17.47229793075269\n",
    "[4.5e+02 1.0e-02 2.0e+00] [0.03889657 0.03889657] 17.514059819120646\n",
    "[2.5e+02 1.0e-02 2.0e+00] [0.02977816 0.02977816] 17.541994687425756\n",
    "[1.5e+02 1.0e-02 2.0e+00] [0.16062682 0.16062682] 17.603042244498063\n",
    "[2.e+02 1.e-02 2.e+00] [0.08893861 0.08893861] 17.610878679933414\n",
    "[5.e+02 1.e-02 2.e+00] [0.06464057 0.06464057] 17.644145208176603\n",
    "[5.5e+02 1.0e-02 2.0e+00] [0.05036331 0.05036331] 17.7140104454512\n",
    "[1.e+02 1.e-02 2.e+00] [0.07011127 0.07011127] 17.882206527306387\n",
    "[6.e+02 1.e-02 2.e+00] [0.02977816 0.02977816] 18.012959441432116\n",
    "```\n",
    "\n",
    "#### `learning_rate = 0.1` and `max_depth = 2`\n",
    "\n",
    "```\n",
    "[20.   0.1  2. ] [0.07011127 0.07011127] 17.448385264649005\n",
    "[40.   0.1  2. ] [0.02718818 0.02718818] 17.49360272274543\n",
    "[45.   0.1  2. ] [0.01543061 0.01543061] 17.603315630784955\n",
    "[50.   0.1  2. ] [0.01543061 0.01543061] 17.61499403932513\n",
    "[30.   0.1  2. ] [0.04243613 0.04243613] 17.62675761250862\n",
    "[15.   0.1  2. ] [0.07597075 0.07597075] 17.699882722923252\n",
    "[35.   0.1  2. ] [0.02259823 0.02259823] 17.713159464763166\n",
    "[25.   0.1  2. ] [0.12046874 0.12046874] 17.728388698555264\n",
    "[55.   0.1  2. ] [0.03561751 0.03561751] 17.850654250039952\n",
    "[60.   0.1  2. ] [0.02057248 0.02057248] 17.855484487312957\n",
    "[10.   0.1  2. ] [0.16062682 0.16062682] 17.943203743202282\n",
    "[5.  0.1 2. ] [0.52659211 0.52659211] 18.959114301931237\n",
    "```\n",
    "\n",
    "```\n",
    "[100.    0.1   2. ] [0.01543061 0.01543061] 688.100733989195\n",
    "[5.e+02 1.e-01 2.e+00] [0.0004726 0.0004726] 10655.016136538125\n",
    "[4.5e+02 1.0e-01 2.0e+00] [0.00053664 0.00053664] 10679.207529306048\n",
    "[4.e+02 1.e-01 2.e+00] [0.00127104 0.00127104] 10692.281884843254\n",
    "[2.5e+02 1.0e-01 2.0e+00] [0.00447363 0.00447363] 10700.830235595411\n",
    "[3.5e+02 1.0e-01 2.0e+00] [0.00099836 0.00099836] 10746.690126986618\n",
    "[5.5e+02 1.0e-01 2.0e+00] [0.00068992 0.00068992] 10757.904204322876\n",
    "[2.e+02 1.e-01 2.e+00] [0.00256216 0.00256216] 10765.864974823933\n",
    "[6.e+02 1.e-01 2.e+00] [0.00099836 0.00099836] 10881.534866211809\n",
    "[3.e+02 1.e-01 2.e+00] [0.0020362 0.0020362] 10910.707418882868\n",
    "[1.5e+02 1.0e-01 2.0e+00] [0.00555285 0.00555285] 10933.393664276844\n",
    "```\n",
    "\n",
    "#### `learning_rate = 0.005` and `max_depth = 2`\n",
    "```\n",
    "[6.01e+02 5.00e-03 2.00e+00] [0.02057248 0.02057248] 17.32472560941443\n",
    "[7.01e+02 5.00e-03 2.00e+00] [0.01871007 0.01871007] 17.363610642212137\n",
    "[8.01e+02 5.00e-03 2.00e+00] [0.01871007 0.01871007] 17.436077995778923\n",
    "[5.01e+02 5.00e-03 2.00e+00] [0.0325831 0.0325831] 17.526435718816128\n",
    "[9.01e+02 5.00e-03 2.00e+00] [0.02259823 0.02259823] 17.530471615059962\n",
    "[1.301e+03 5.000e-03 2.000e+00] [0.02977816 0.02977816] 18.548742088920125\n",
    "[1.001e+03 5.000e-03 2.000e+00] [0.03561751 0.03561751] 17.641252826483765\n",
    "[1.101e+03 5.000e-03 2.000e+00] [0.04243613 0.04243613] 17.739960532015267\n",
    "[1.201e+03 5.000e-03 2.000e+00] [0.04243613 0.04243613] 17.972280163096833\n",
    "[1.401e+03 5.000e-03 2.000e+00] [0.01699969 0.01699969] 20.937759579945745\n",
    "```\n",
    "\n",
    "\n"
   ]
  },
  {
   "cell_type": "markdown",
   "id": "settled-interaction",
   "metadata": {},
   "source": [
    "### Training"
   ]
  },
  {
   "cell_type": "markdown",
   "id": "fuzzy-beauty",
   "metadata": {},
   "source": [
    "### hyperparameters"
   ]
  },
  {
   "cell_type": "code",
   "execution_count": 33,
   "id": "applicable-accounting",
   "metadata": {},
   "outputs": [],
   "source": [
    "hyperparams ={\n",
    "    'n_estimators': 35,\n",
    "    'learning_rate': 0.08,\n",
    "    'max_depth': 2,\n",
    "    'gb_args': {'random_state': 20},\n",
    "}"
   ]
  },
  {
   "cell_type": "markdown",
   "id": "rural-photograph",
   "metadata": {},
   "source": [
    "### Reweigher classifier"
   ]
  },
  {
   "cell_type": "code",
   "execution_count": 34,
   "id": "human-occasions",
   "metadata": {
    "scrolled": true
   },
   "outputs": [],
   "source": [
    "reweighter = {}\n",
    "\n",
    "for num in train_reweight_two_dfs.keys():\n",
    "    reweighter[num] = GBReweighter(**hyperparams)\n",
    "    reweighter[num] = reweighter[num].fit(\n",
    "        original=train_reweight_two_dfs[num]['MC'], \n",
    "        target=train_reweight_two_dfs[num]['data'].drop('sWeight', 1), # drop the sWeight \n",
    "        target_weight=train_reweight_two_dfs[num]['data']['sWeight']\n",
    "    )"
   ]
  },
  {
   "cell_type": "code",
   "execution_count": 35,
   "id": "alien-rubber",
   "metadata": {},
   "outputs": [],
   "source": [
    "train_MC_weights = {}\n",
    "test_MC_weights = {}\n",
    "\n",
    "for num in reweighter.keys():\n",
    "    train_MC_weights[num] = reweighter[num].predict_weights(train_reweight_two_dfs[num]['MC'])\n",
    "    test_MC_weights[num] = reweighter[num].predict_weights(test_reweight_two_dfs[num]['MC'])"
   ]
  },
  {
   "cell_type": "markdown",
   "id": "final-means",
   "metadata": {},
   "source": [
    "## Test"
   ]
  },
  {
   "cell_type": "code",
   "execution_count": 36,
   "id": "figured-alliance",
   "metadata": {
    "scrolled": false
   },
   "outputs": [
    {
     "name": "stderr",
     "output_type": "stream",
     "text": [
      "findfont: Font family ['serif'] not found. Falling back to DejaVu Sans.\n"
     ]
    },
    {
     "name": "stdout",
     "output_type": "stream",
     "text": [
      "Figure saved in /home/correiaa/bd2dsttaunu/output/plots//BTODstDX_MC/BTODstDX_MC_weights/overtraining_1\n",
      "Figure saved in /home/correiaa/bd2dsttaunu/output/plots//BTODstDX_MC/BTODstDX_MC_weights/overtraining_2\n"
     ]
    },
    {
     "data": {
      "image/png": "[encoded data removed]",
      "text/plain": [
       "<Figure size 576x432 with 1 Axes>"
      ]
     },
     "metadata": {
      "needs_background": "light"
     },
     "output_type": "display_data"
    },
    {
     "data": {
      "image/png": "[encoded data removed]",
      "text/plain": [
       "<Figure size 576x432 with 1 Axes>"
      ]
     },
     "metadata": {
      "needs_background": "light"
     },
     "output_type": "display_data"
    }
   ],
   "source": [
    "for num in reweighter.keys():\n",
    "    plot_hist_var(\n",
    "        [train_MC_weights[num],test_MC_weights[num]],\n",
    "        branch='Weight', bar_mode=[True, False],\n",
    "        alpha=[0.7, 0.4],\n",
    "        data_names=['train', 'test'],\n",
    "        n_bins=10, high=2,\n",
    "        colors=['olive', 'crimson'], \n",
    "        folder_name=f'{MC_name}/{weight_MC_name}',\n",
    "        fig_name=f'overtraining_{num}'\n",
    "    )"
   ]
  },
  {
   "cell_type": "code",
   "execution_count": 37,
   "id": "productive-clause",
   "metadata": {},
   "outputs": [
    {
     "name": "stdout",
     "output_type": "stream",
     "text": [
      "Reweighting 1\n",
      "KS score: 0.03896172115596293\n",
      "p-value: 0.08492753431435018\n",
      "Reweighting 2\n",
      "KS score: 0.03159357255044098\n",
      "p-value: 0.24942745112926368\n"
     ]
    }
   ],
   "source": [
    "weight_ks_2samp = {}\n",
    "weight_ks_value = {}\n",
    "weight_p_value = {}\n",
    "for num in reweighter.keys():\n",
    "    weight_ks_2samp[num] = ks_2samp(train_MC_weights[num], test_MC_weights[num])\n",
    "\n",
    "    weight_ks_value[num] = weight_ks_2samp[num].statistic\n",
    "    weight_p_value[num] = weight_ks_2samp[num].pvalue\n",
    "    \n",
    "    print(f\"Reweighting {num}\")\n",
    "    print(\"KS score:\", weight_ks_value[num])\n",
    "    print(\"p-value:\", weight_p_value[num])"
   ]
  },
  {
   "cell_type": "markdown",
   "id": "different-agency",
   "metadata": {},
   "source": [
    "#### For `max_depth = 2` and `learning_rate = 0.08`\n",
    "\n",
    "With `n_estimators = 35` \n",
    "\n",
    "```\n",
    "Reweighting 1\n",
    "KS score: 0.04377431906614786\n",
    "p-value: 0.03889657467847918\n",
    "Reweighting 2\n",
    "KS score: 0.046645101566962534\n",
    "p-value: 0.02157499239513716\n",
    "```\n",
    "\n",
    "\n",
    "\n",
    "#### For `max_depth = 2` and `learning_rate = 0.1`\n",
    "\n",
    "With `n_estimators = 20` (Best $\\chi^2$)\n",
    "```\n",
    "Reweighting 1\n",
    "KS score: 0.03939688715953307\n",
    "p-value: 0.08223954424471516\n",
    "Reweighting 2\n",
    "KS score: 0.024321089032782944\n",
    "p-value: 0.5638301497123446\n",
    "```\n",
    "\n",
    "With `n_estimators = 40` (Best $\\chi^2$)\n",
    "```\n",
    "Reweighting 1\n",
    "KS score: 0.045233463035019454\n",
    "p-value: 0.02977816352950209\n",
    "Reweighting 2\n",
    "KS score: 0.05102845281577094\n",
    "p-value: 0.008889137977158956\n",
    "```\n",
    "\n",
    "With `n_estimators = 45` (Best $\\chi^2$)\n",
    "```\n",
    "Reweighting 1\n",
    "KS score: 0.045233463035019454\n",
    "p-value: 0.02977816352950209\n",
    "Reweighting 2\n",
    "KS score: 0.05102845281577094\n",
    "p-value: 0.008889137977158956\n",
    "```\n",
    "\n",
    "\n",
    "With `n_estimators = 40` (Best $\\chi^2$)\n",
    "```\n",
    "Reweighting 1\n",
    "KS score: 0.04085603112840467\n",
    "p-value: 0.06464056991337011\n",
    "Reweighting 2\n",
    "KS score: 0.040308630887039364\n",
    "p-value: 0.06762029803360581\n",
    "```\n",
    "\n",
    "\n",
    "\n",
    "#### For `max_depth = 2` and `learning_rate = 0.01`\n",
    "\n",
    "With `n_estimators = 300`  (Best $\\chi^2$)\n",
    "```\n",
    "Reweighting 1\n",
    "KS score: 0.04912451361867704\n",
    "p-value: 0.01399271212323702\n",
    "Reweighting 2\n",
    "KS score: 0.03592195315744804\n",
    "p-value: 0.1353170229371491\n",
    "```\n",
    "\n",
    "\n",
    "\n",
    "With `n_estimators = 350`  (Best $\\chi^2$)\n",
    "```\n",
    "Reweighting 1\n",
    "KS score: 0.04815175097276265\n",
    "p-value: 0.016999690288906646\n",
    "Reweighting 2\n",
    "KS score: 0.04225961186622225\n",
    "p-value: 0.04840952168424406\n",
    "```\n",
    "\n",
    "With `n_estimators = 500` (Donal's choice)\n",
    "```\n",
    "Reweighting 1\n",
    "KS score: 0.060797665369649805\n",
    "p-value: 0.0009983581316908117\n",
    "Reweighting 2\n",
    "KS score: 0.03938101796014496\n",
    "p-value: 0.07873429160457257\n",
    "```\n",
    "\n",
    "With `n_estimators = 150` (p-value > 0.1 for lowest $\\chi^2$)\n",
    "```\n",
    "Reweighting 1\n",
    "KS score: 0.03599221789883268\n",
    "p-value: 0.13938145891234918\n",
    "Reweighting 2\n",
    "KS score: 0.027688438008179342\n",
    "p-value: 0.397946608200094\n",
    "```\n",
    "\n",
    "\n",
    "#### For `max_depth = 3` and `learning_rate = 0.01`\n",
    "\n",
    "With `n_estimators = 150` (Best $\\chi^2$)\n",
    "```\n",
    "Reweighting 1\n",
    "KS score: 0.060797665369649805\n",
    "p-value: 0.0009983581316908117\n",
    "Reweighting 2\n",
    "KS score: 0.03938101796014496\n",
    "p-value: 0.07873429160457257\n",
    "```\n",
    "\n",
    "With `n_estimators = 500` (Donal's choice)\n",
    "```\n",
    "KS score: 0.06760700389105058\n",
    "p-value: 0.0001650754304829554\n",
    "Reweighting 2\n",
    "KS score: 0.058861364636467926\n",
    "p-value: 0.0014983101846401947\n",
    "```\n",
    "\n",
    "With `n_estimators = 100` (p-value > 0.01 for lowest $\\chi^2$)\n",
    "```\n",
    "Reweighting 1\n",
    "KS score: 0.048638132295719845\n",
    "p-value: 0.015430611756470612\n",
    "Reweighting 2\n",
    "KS score: 0.03941642121990604\n",
    "p-value: 0.07852839946301926\n",
    "```\n",
    "\n",
    "\n",
    "For default hyperparameters\n",
    "```\n",
    "Reweighting 1\n",
    "KS score: 0.07003891050583658\n",
    "p-value: 8.286816973553847e-05\n",
    "Reweighting 2\n",
    "KS score: 0.062321617468015886\n",
    "p-value: 0.0006368989083538334\n",
    "```"
   ]
  },
  {
   "cell_type": "markdown",
   "id": "baking-airport",
   "metadata": {},
   "source": [
    "## Apply reweighting"
   ]
  },
  {
   "cell_type": "code",
   "execution_count": 38,
   "id": "temporal-opinion",
   "metadata": {},
   "outputs": [],
   "source": [
    "two_dfs[1]['MC']['weight'] = reweighter[2].predict_weights(reweight_two_dfs[1]['MC'])\n",
    "two_dfs[2]['MC']['weight'] = reweighter[1].predict_weights(reweight_two_dfs[2]['MC'])"
   ]
  },
  {
   "cell_type": "code",
   "execution_count": 39,
   "id": "conceptual-group",
   "metadata": {},
   "outputs": [],
   "source": [
    "save_df = {}\n",
    "for type_df in df.keys():\n",
    "    save_df[type_df] = pd.concat([two_dfs[1][type_df],two_dfs[2][type_df]])"
   ]
  },
  {
   "cell_type": "markdown",
   "id": "pressing-moral",
   "metadata": {},
   "source": [
    "## Save"
   ]
  },
  {
   "cell_type": "code",
   "execution_count": 40,
   "id": "blank-trouble",
   "metadata": {},
   "outputs": [
    {
     "name": "stdout",
     "output_type": "stream",
     "text": [
      "Root file saved in /home/correiaa/bd2dsttaunu/output/root/BTODstDX_MC/BTODstDX_MC_weights.root\n"
     ]
    }
   ],
   "source": [
    "save_root(save_df['MC'], weight_MC_name, 'DecayTree', folder_name=MC_name)"
   ]
  },
  {
   "cell_type": "code",
   "execution_count": 41,
   "id": "collaborative-adventure",
   "metadata": {},
   "outputs": [
    {
     "name": "stdout",
     "output_type": "stream",
     "text": [
      "Joblib file saved in /home/correiaa/bd2dsttaunu/output/joblib/BTODstDX_MC/BTODstDX_MC_weights_1.joblib\n",
      "Joblib file saved in /home/correiaa/bd2dsttaunu/output/joblib/BTODstDX_MC/BTODstDX_MC_weights_2.joblib\n"
     ]
    }
   ],
   "source": [
    "for num in reweighter.keys():\n",
    "    dump_joblib(reweighter[num], f\"{weight_MC_name}_{num}\", folder_name=MC_name)"
   ]
  },
  {
   "cell_type": "code",
   "execution_count": null,
   "id": "delayed-reunion",
   "metadata": {},
   "outputs": [],
   "source": []
  },
  {
   "cell_type": "code",
   "execution_count": null,
   "id": "sufficient-driving",
   "metadata": {},
   "outputs": [],
   "source": []
  },
  {
   "cell_type": "code",
   "execution_count": null,
   "id": "interested-adams",
   "metadata": {},
   "outputs": [],
   "source": []
  },
  {
   "cell_type": "code",
   "execution_count": null,
   "id": "pressing-words",
   "metadata": {},
   "outputs": [],
   "source": []
  }
 ],
 "metadata": {
  "kernelspec": {
   "display_name": "bd2dsttaunu_env",
   "language": "python",
   "name": "bd2dsttaunu_env"
  },
  "language_info": {
   "codemirror_mode": {
    "name": "ipython",
    "version": 3
   },
   "file_extension": ".py",
   "mimetype": "text/x-python",
   "name": "python",
   "nbconvert_exporter": "python",
   "pygments_lexer": "ipython3",
   "version": "3.7.10"
  }
 },
 "nbformat": 4,
 "nbformat_minor": 5
}
